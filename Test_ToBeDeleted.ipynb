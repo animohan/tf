{
 "cells": [
  {
   "cell_type": "code",
   "execution_count": 1,
   "metadata": {},
   "outputs": [],
   "source": [
    "import numpy as np\n",
    "import tensorflow as tf"
   ]
  },
  {
   "cell_type": "code",
   "execution_count": 4,
   "metadata": {},
   "outputs": [
    {
     "name": "stdout",
     "output_type": "stream",
     "text": [
      "4.336902\n"
     ]
    }
   ],
   "source": [
    "\n",
    "with tf.Session() as sess:\n",
    "    w = tf.Variable(0, dtype = tf.float32)\n",
    "    cost = tf.add(tf.add(w**2,tf.multiply(-10.0,w)), 25)\n",
    "    tf.global_variables_initializer().run()\n",
    "    train = tf.train.GradientDescentOptimizer(0.01).minimize(cost)\n",
    "    \n",
    "    for _ in range(100):\n",
    "        train.run()\n",
    "     \n",
    "    w_val = w.eval()\n",
    "\n",
    "print(w_val)"
   ]
  },
  {
   "cell_type": "code",
   "execution_count": null,
   "metadata": {},
   "outputs": [],
   "source": []
  },
  {
   "cell_type": "code",
   "execution_count": 10,
   "metadata": {},
   "outputs": [
    {
     "name": "stdout",
     "output_type": "stream",
     "text": [
      "4.336902\n",
      "4.336902\n"
     ]
    }
   ],
   "source": [
    "coeffecients = np.array([[1.0],[-10.0],[25.0]])\n",
    "\n",
    "w = tf.Variable(0, dtype = tf.float32)\n",
    "x = tf.placeholder(tf.float32, [3,1])\n",
    "cost = x[0][0]*w**2 + x[1][0]*w + x[2][0]\n",
    "train = tf.train.GradientDescentOptimizer(0.01).minimize(cost)\n",
    "\n",
    "with tf.Session() as sess:\n",
    "    tf.global_variables_initializer().run()\n",
    "    \n",
    "    for _ in range(100):\n",
    "        sess.run(train, feed_dict = {x:coeffecients})\n",
    "    \n",
    "    print(sess.run(w))\n",
    "    w_val = w.eval()\n",
    "\n",
    "print(w_val)"
   ]
  }
 ],
 "metadata": {
  "kernelspec": {
   "display_name": "Python 2",
   "language": "python",
   "name": "python2"
  },
  "language_info": {
   "codemirror_mode": {
    "name": "ipython",
    "version": 2
   },
   "file_extension": ".py",
   "mimetype": "text/x-python",
   "name": "python",
   "nbconvert_exporter": "python",
   "pygments_lexer": "ipython2",
   "version": "2.7.12"
  }
 },
 "nbformat": 4,
 "nbformat_minor": 2
}
