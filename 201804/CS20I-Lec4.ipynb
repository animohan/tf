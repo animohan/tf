{
 "cells": [
  {
   "cell_type": "markdown",
   "metadata": {},
   "source": [
    "Word2Vec"
   ]
  },
  {
   "cell_type": "code",
   "execution_count": 1,
   "metadata": {},
   "outputs": [
    {
     "name": "stderr",
     "output_type": "stream",
     "text": [
      "/home/ubuntu/anaconda3/envs/tensorflow_p36/lib/python3.6/site-packages/h5py/__init__.py:36: FutureWarning: Conversion of the second argument of issubdtype from `float` to `np.floating` is deprecated. In future, it will be treated as `np.float64 == np.dtype(float).type`.\n",
      "  from ._conv import register_converters as _register_converters\n"
     ]
    }
   ],
   "source": [
    "import os\n",
    "os.environ['TF_CPP_MIN_LOG_LEVEL'] = '2'\n",
    "import numpy as np\n",
    "from tensorflow.contrib.tensorboard.plugins import projector\n",
    "import tensorflow as tf\n",
    "import utils\n",
    "import word2vec_utils"
   ]
  },
  {
   "cell_type": "code",
   "execution_count": 2,
   "metadata": {},
   "outputs": [],
   "source": [
    "tf.reset_default_graph()"
   ]
  },
  {
   "cell_type": "code",
   "execution_count": 3,
   "metadata": {},
   "outputs": [],
   "source": [
    "VOCAB_SIZE = 50000\n",
    "BATCH_SIZE = 128\n",
    "EMBED_SIZE = 128\n",
    "SKIP_WINDOW = 1\n",
    "NUM_SAMPLED = 64\n",
    "LEARNING_RATE = 1.0\n",
    "NUM_TRAIN_STEPS = 100000\n",
    "VISUAL_FLD = \"visualization\"\n",
    "SKIP_STEP = 5000\n"
   ]
  },
  {
   "cell_type": "code",
   "execution_count": 4,
   "metadata": {},
   "outputs": [],
   "source": [
    "DOWNLOAD_URL = 'http://mattmahoney.net/dc/text8.zip'\n",
    "EXPECTED_BYTES = 31344016\n",
    "NUM_VISUALIZE = 3000"
   ]
  },
  {
   "cell_type": "code",
   "execution_count": 5,
   "metadata": {},
   "outputs": [],
   "source": [
    "def word2vec(dataset):\n",
    "    with tf.name_scope('data'):\n",
    "        iterator = dataset.make_initializable_iterator()\n",
    "        center_words, target_words = iterator.get_next()\n",
    "    \n",
    "    \n",
    "    with tf.name_scope('embed'):\n",
    "        embed_matrix = tf.get_variable('embed_matrix', shape = [VOCAB_SIZE, EMBED_SIZE], initializer = tf.random_uniform_initializer())\n",
    "        embed = tf.nn.embedding_lookup(embed_matrix, center_words, name = 'embedding')\n",
    "    \n",
    "    with tf.name_scope('loss'):\n",
    "        nce_weight = tf.get_variable('nce_weight', shape = [VOCAB_SIZE, EMBED_SIZE], initializer = tf.truncated_normal_initializer(stddev = 1.0 /(EMBED_SIZE**0.5)))\n",
    "        nce_bias = tf.get_variable('nce_bias', initializer = tf.zeros([VOCAB_SIZE]))\n",
    "        loss = tf.reduce_mean(tf.nn.nce_loss(weights = nce_weight,biases = nce_bias,labels = target_words, \n",
    "                                             inputs = embed,num_sampled = NUM_SAMPLED, num_classes = VOCAB_SIZE, name = 'loss'))\n",
    "        \n",
    "    \n",
    "    with tf.name_scope('optimizer'):\n",
    "        optimizer = tf.train.GradientDescentOptimizer(LEARNING_RATE).minimize(loss)\n",
    "        \n",
    "    utils.safe_mkdir('Lec4_checkpoints')\n",
    "    \n",
    "    with tf.Session() as sess:\n",
    "        sess.run(iterator.initializer)\n",
    "        sess.run(tf.global_variables_initializer())\n",
    "        \n",
    "        total_loss = 0.0\n",
    "        writer = tf.summary.FileWriter('graphs/word2vec_simple',sess.graph)\n",
    "        \n",
    "        for index in range(NUM_TRAIN_STEPS):\n",
    "            try:\n",
    "                loss_batch,_ = sess.run([loss, optimizer])\n",
    "                total_loss += loss_batch\n",
    "                if (index + 1)% SKIP_STEP == 0:\n",
    "                    print(\"Average loss at ste {}:{:5.1f}\".format(index, total_loss/SKIP_STEP))\n",
    "                    total_loss = 0.0\n",
    "            except tf.errors.OutOfRangeError:\n",
    "                sess.run(iterator.intializer)\n",
    "        writer.close()\n",
    "\n",
    "def gen():\n",
    "    yield from word2vec_utils.batch_gen(DOWNLOAD_URL, EXPECTED_BYTES,VOCAB_SIZE,BATCH_SIZE,SKIP_WINDOW, VISUAL_FLD)\n",
    "                \n",
    "        \n",
    "        \n",
    "        "
   ]
  },
  {
   "cell_type": "code",
   "execution_count": 6,
   "metadata": {},
   "outputs": [
    {
     "name": "stdout",
     "output_type": "stream",
     "text": [
      "data/text8.zip already exists\n",
      "Average loss at ste 4999: 65.4\n",
      "Average loss at ste 9999: 18.1\n",
      "Average loss at ste 14999:  9.7\n",
      "Average loss at ste 19999:  6.7\n",
      "Average loss at ste 24999:  5.8\n",
      "Average loss at ste 29999:  5.2\n",
      "Average loss at ste 34999:  5.0\n",
      "Average loss at ste 39999:  4.8\n",
      "Average loss at ste 44999:  4.8\n",
      "Average loss at ste 49999:  4.7\n",
      "Average loss at ste 54999:  4.7\n",
      "Average loss at ste 59999:  4.7\n",
      "Average loss at ste 64999:  4.6\n",
      "Average loss at ste 69999:  4.7\n",
      "Average loss at ste 74999:  4.6\n",
      "Average loss at ste 79999:  4.7\n",
      "Average loss at ste 84999:  4.7\n",
      "Average loss at ste 89999:  4.7\n",
      "Average loss at ste 94999:  4.6\n",
      "Average loss at ste 99999:  4.6\n"
     ]
    }
   ],
   "source": [
    "dataset = tf.data.Dataset.from_generator(gen,(tf.int32, tf.int32),(tf.TensorShape([BATCH_SIZE]),tf.TensorShape([BATCH_SIZE,1])))\n",
    "word2vec(dataset)"
   ]
  },
  {
   "cell_type": "code",
   "execution_count": null,
   "metadata": {},
   "outputs": [],
   "source": []
  },
  {
   "cell_type": "code",
   "execution_count": null,
   "metadata": {},
   "outputs": [],
   "source": []
  },
  {
   "cell_type": "code",
   "execution_count": null,
   "metadata": {},
   "outputs": [],
   "source": []
  },
  {
   "cell_type": "code",
   "execution_count": null,
   "metadata": {},
   "outputs": [],
   "source": []
  }
 ],
 "metadata": {
  "kernelspec": {
   "display_name": "Python 3",
   "language": "python",
   "name": "python3"
  },
  "language_info": {
   "codemirror_mode": {
    "name": "ipython",
    "version": 3
   },
   "file_extension": ".py",
   "mimetype": "text/x-python",
   "name": "python",
   "nbconvert_exporter": "python",
   "pygments_lexer": "ipython3",
   "version": "3.5.2"
  }
 },
 "nbformat": 4,
 "nbformat_minor": 2
}
