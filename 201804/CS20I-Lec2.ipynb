{
 "cells": [
  {
   "cell_type": "markdown",
   "metadata": {},
   "source": [
    "## Lecture 2: CS 20 TensorFlow\n",
    "Following lecture notes from the class"
   ]
  },
  {
   "cell_type": "markdown",
   "metadata": {},
   "source": [
    "### Review previous lecture\n",
    "TensorFlow separates definition of computations from their executions\n",
    "\n",
    "Phase 1: Assemble a graph of operations\n",
    "Phase 2: Use a session to feed value and execute the operations in the graph\n",
    "\n",
    "#### Constants\n",
    "- Constant values are stored in the graph definition; use they carefully or graph gets bloated\n",
    "- Sessions allocate memory to store variable; two different sessions can hold two different value for the same variable\n",
    "\n",
    "#### Feed Dict\n",
    "- Feed dict feeds values into placeholders with a dictionary.\n",
    "- Easy to use, but has impact on perf\n",
    "\n",
    "#### Lazy loading\n",
    "- Separate the assembling of graph and the execution of operations.\n",
    "- Use python attribute to ensure function is only loaded the first time its called."
   ]
  },
  {
   "cell_type": "markdown",
   "metadata": {
    "collapsed": true
   },
   "source": [
    "### Linear Regression\n",
    "Inference Y_predicted = w*x + b\n",
    "Mean Squqared Error  = E((y - y_predicted))\n"
   ]
  },
  {
   "cell_type": "code",
   "execution_count": 1,
   "metadata": {
    "collapsed": true
   },
   "outputs": [],
   "source": [
    "import os\n",
    "import time"
   ]
  },
  {
   "cell_type": "code",
   "execution_count": 10,
   "metadata": {
    "collapsed": false
   },
   "outputs": [],
   "source": [
    "import numpy as np\n",
    "import tensorflow as tf\n",
    "import matplotlib.pyplot as plt\n",
    "import examples.utils as utils"
   ]
  },
  {
   "cell_type": "code",
   "execution_count": 8,
   "metadata": {
    "collapsed": true
   },
   "outputs": [],
   "source": [
    "DATA_FILE = 'examples/data/birth_life_2010.txt'"
   ]
  },
  {
   "cell_type": "code",
   "execution_count": 12,
   "metadata": {
    "collapsed": false
   },
   "outputs": [],
   "source": [
    "# Step1 : Read in the data from the text file\n",
    "data, n_samples = utils.read_birth_life_data(DATA_FILE)"
   ]
  },
  {
   "cell_type": "code",
   "execution_count": 18,
   "metadata": {
    "collapsed": false
   },
   "outputs": [
    {
     "name": "stdout",
     "output_type": "stream",
     "text": [
      "Dimensions of the data set (190, 2)\n"
     ]
    }
   ],
   "source": [
    "print(\"Dimensions of the data set\", np.shape(data))"
   ]
  },
  {
   "cell_type": "code",
   "execution_count": 19,
   "metadata": {
    "collapsed": true
   },
   "outputs": [],
   "source": [
    "# Step 2: Create placeholders for X(Birth Rate) and Y( life expectancy)\n",
    "# Note that both X and Y are scalars with type float\n",
    "\n",
    "X = tf.placeholder(tf.float32, name = \"X\")\n",
    "Y = tf.placeholder(tf.float32, name = \"Y\")"
   ]
  },
  {
   "cell_type": "code",
   "execution_count": 20,
   "metadata": {
    "collapsed": true
   },
   "outputs": [],
   "source": [
    "# Step 3: Create Weight and bias and initialize them to 0\n",
    "w = tf.get_variable(\"weights\", initializer = tf.constant(0.0)) # Shape is not needed when having constant initializer\n",
    "b = tf.get_variable(\"bias\", initializer = tf.constant(0.0))"
   ]
  },
  {
   "cell_type": "code",
   "execution_count": 22,
   "metadata": {
    "collapsed": true
   },
   "outputs": [],
   "source": [
    "# Step 4 : Build the model to predict y\n",
    "Y_predicted = w * X + b"
   ]
  },
  {
   "cell_type": "code",
   "execution_count": 25,
   "metadata": {
    "collapsed": false
   },
   "outputs": [],
   "source": [
    "# Step 5: Use the squared error as the loss function\n",
    "\n",
    "loss = tf.square(Y - Y_predicted, name = \"loss\")"
   ]
  },
  {
   "cell_type": "code",
   "execution_count": 29,
   "metadata": {
    "collapsed": false
   },
   "outputs": [],
   "source": [
    "# Step 6: Create Optimizer:  Using Gradient descent to minimize the loss\n",
    "opt = tf.train.GradientDescentOptimizer(learning_rate = 0.001)\n",
    "optimizer = opt.minimize(loss)"
   ]
  },
  {
   "cell_type": "code",
   "execution_count": 31,
   "metadata": {
    "collapsed": true
   },
   "outputs": [],
   "source": [
    "# Write the log files using a FileWriter\n",
    "writer = tf.summary.FileWriter('./graphs/linear_reg', tf.get_default_graph())"
   ]
  },
  {
   "cell_type": "code",
   "execution_count": 34,
   "metadata": {
    "collapsed": false
   },
   "outputs": [
    {
     "name": "stdout",
     "output_type": "stream",
     "text": [
      "Epoch 0: Avg Loss 1661.863764550287\n",
      "Epoch 20: Avg Loss 119.20935661137888\n",
      "Epoch 40: Avg Loss 37.305592010505066\n",
      "Epoch 60: Avg Loss 30.524589418089263\n",
      "Epoch 80: Avg Loss 30.04458791257593\n"
     ]
    }
   ],
   "source": [
    "# Step 7:Initialize the variable and run optimizer by feeding with dict\n",
    "\n",
    "with tf.Session() as sess:\n",
    "    # Initializing the variables w and b\n",
    "    sess.run(tf.global_variables_initializer())\n",
    "    \n",
    "    #Step 8: Train the model for 100 epochs\n",
    "    for i in range(100):\n",
    "        total_loss = 0\n",
    "        for x, y in data:\n",
    "            # Execute the optimizer and fetch the value of the loss\n",
    "            _, l = sess.run([optimizer,loss],feed_dict = {X:x,Y:y})\n",
    "            total_loss = total_loss + l\n",
    "        if(i%20 ==0):\n",
    "            print(\"Epoch {0}: Avg Loss {1}\".format(i, total_loss/n_samples))\n",
    "    \n",
    "    #Close the graph writer        \n",
    "    writer.close()\n",
    "    \n",
    "    # Get, final values of w and b\n",
    "    w_out, b_out = sess.run([w,b])"
   ]
  },
  {
   "cell_type": "code",
   "execution_count": 35,
   "metadata": {
    "collapsed": false
   },
   "outputs": [
    {
     "data": {
      "image/png": "[encoded data removed]",
      "text/plain": [
       "<matplotlib.figure.Figure at 0x7fd82da15278>"
      ]
     },
     "metadata": {},
     "output_type": "display_data"
    }
   ],
   "source": [
    "plt.plot(data[:,0],data[:,1],'bo', label = \"Real Data\")\n",
    "plt.plot(data[:,0],data[:,0]*w_out + b_out,'r', label = \"Predicted Data\")\n",
    "plt.legend()\n",
    "plt.show()"
   ]
  }
 ],
 "metadata": {
  "kernelspec": {
   "display_name": "Python 3",
   "language": "python",
   "name": "python3"
  },
  "language_info": {
   "codemirror_mode": {
    "name": "ipython",
    "version": 3
   },
   "file_extension": ".py",
   "mimetype": "text/x-python",
   "name": "python",
   "nbconvert_exporter": "python",
   "pygments_lexer": "ipython3",
   "version": "3.5.2"
  }
 },
 "nbformat": 4,
 "nbformat_minor": 2
}
