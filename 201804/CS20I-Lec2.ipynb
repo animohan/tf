{
 "cells": [
  {
   "cell_type": "markdown",
   "metadata": {},
   "source": [
    "## Lecture 2: CS 20 TensorFlow\n",
    "Following lecture notes from the class"
   ]
  },
  {
   "cell_type": "markdown",
   "metadata": {},
   "source": [
    "### Review previous lecture\n",
    "TensorFlow separates definition of computations from their executions\n",
    "\n",
    "Phase 1: Assemble a graph of operations\n",
    "Phase 2: Use a session to feed value and execute the operations in the graph\n",
    "\n",
    "#### Constants\n",
    "- Constant values are stored in the graph definition; use they carefully or graph gets bloated\n",
    "- Sessions allocate memory to store variable; two different sessions can hold two different value for the same variable\n",
    "\n",
    "#### Feed Dict\n",
    "- Feed dict feeds values into placeholders with a dictionary.\n",
    "- Easy to use, but has impact on perf\n",
    "\n",
    "#### Lazy loading\n",
    "- Separate the assembling of graph and the execution of operations.\n",
    "- Use python attribute to ensure function is only loaded the first time its called."
   ]
  },
  {
   "cell_type": "markdown",
   "metadata": {
    "collapsed": true
   },
   "source": [
    "### Linear Regression\n",
    "Inference Y_predicted = w*x + b\n",
    "Mean Squqared Error  = E((y - y_predicted))\n"
   ]
  },
  {
   "cell_type": "code",
   "execution_count": 1,
   "metadata": {},
   "outputs": [],
   "source": [
    "import os\n",
    "import time"
   ]
  },
  {
   "cell_type": "code",
   "execution_count": 2,
   "metadata": {},
   "outputs": [
    {
     "name": "stderr",
     "output_type": "stream",
     "text": [
      "/home/ubuntu/anaconda3/envs/tensorflow_p36/lib/python3.6/site-packages/h5py/__init__.py:36: FutureWarning: Conversion of the second argument of issubdtype from `float` to `np.floating` is deprecated. In future, it will be treated as `np.float64 == np.dtype(float).type`.\n",
      "  from ._conv import register_converters as _register_converters\n"
     ]
    }
   ],
   "source": [
    "import numpy as np\n",
    "import tensorflow as tf\n",
    "import matplotlib.pyplot as plt\n",
    "import examples.utils as utils"
   ]
  },
  {
   "cell_type": "code",
   "execution_count": 3,
   "metadata": {},
   "outputs": [],
   "source": [
    "DATA_FILE = 'examples/data/birth_life_2010.txt'"
   ]
  },
  {
   "cell_type": "code",
   "execution_count": 4,
   "metadata": {},
   "outputs": [
    {
     "data": {
      "text/plain": [
       "'examples/data/birth_life_2010.txt'"
      ]
     },
     "execution_count": 4,
     "metadata": {},
     "output_type": "execute_result"
    }
   ],
   "source": [
    "DATA_FILE"
   ]
  },
  {
   "cell_type": "code",
   "execution_count": 5,
   "metadata": {},
   "outputs": [],
   "source": [
    "# Step1 : Read in the data from the text file\n",
    "data, n_samples = utils.read_birth_life_data(DATA_FILE)"
   ]
  },
  {
   "cell_type": "code",
   "execution_count": 6,
   "metadata": {},
   "outputs": [
    {
     "data": {
      "text/plain": [
       "array([74.82825 , 70.81949 , 72.15066 , 61.999855, 73.92766 , 67.465195,\n",
       "       81.641464, 72.30639 , 68.484314, 62.44061 ], dtype=float32)"
      ]
     },
     "execution_count": 6,
     "metadata": {},
     "output_type": "execute_result"
    }
   ],
   "source": [
    "data[0:10,1]"
   ]
  },
  {
   "cell_type": "code",
   "execution_count": 7,
   "metadata": {},
   "outputs": [
    {
     "name": "stdout",
     "output_type": "stream",
     "text": [
      "Dimensions of the data set (190, 2)\n"
     ]
    }
   ],
   "source": [
    "print(\"Dimensions of the data set\", np.shape(data))"
   ]
  },
  {
   "cell_type": "code",
   "execution_count": 8,
   "metadata": {},
   "outputs": [],
   "source": [
    "# Step 2: Create placeholders for X(Birth Rate) and Y( life expectancy)\n",
    "# Note that both X and Y are scalars with type float\n",
    "tf.reset_default_graph()\n",
    "X = tf.placeholder(tf.float32, name = \"X\")\n",
    "Y = tf.placeholder(tf.float32, name = \"Y\")"
   ]
  },
  {
   "cell_type": "code",
   "execution_count": 9,
   "metadata": {},
   "outputs": [
    {
     "data": {
      "text/plain": [
       "'\\nw = tf.Variable(0, dtype = tf.float32)\\ncost = tf.add(tf.add(w**2,tf.multiply(-10.0,w)), 25)\\ntf.global_variables_initializer().run()\\ntrain = tf.train.GradientDescentOptimizer(0.01).minimize(cost)\\n\\nfor _ in range(100):\\n    train.run()\\n     \\nw_val = w.eval()\\n\\nprint(w_val)#having constant initializer\\n'"
      ]
     },
     "execution_count": 9,
     "metadata": {},
     "output_type": "execute_result"
    }
   ],
   "source": [
    "# Step 3: Create Weight and bias and initialize them to 0\n",
    "w = tf.get_variable(\"weights\", initializer = tf.constant(0.0)) # Shape is not needed when with tf.Session() as sess:\n",
    "'''\n",
    "w = tf.Variable(0, dtype = tf.float32)\n",
    "cost = tf.add(tf.add(w**2,tf.multiply(-10.0,w)), 25)\n",
    "tf.global_variables_initializer().run()\n",
    "train = tf.train.GradientDescentOptimizer(0.01).minimize(cost)\n",
    "\n",
    "for _ in range(100):\n",
    "    train.run()\n",
    "     \n",
    "w_val = w.eval()\n",
    "\n",
    "print(w_val)#having constant initializer\n",
    "'''\n",
    "\n"
   ]
  },
  {
   "cell_type": "code",
   "execution_count": 10,
   "metadata": {},
   "outputs": [],
   "source": [
    "b = tf.get_variable(\"bias\", initializer = tf.constant(0.0))"
   ]
  },
  {
   "cell_type": "code",
   "execution_count": 11,
   "metadata": {},
   "outputs": [],
   "source": [
    "# Step 4 : Build the model to predict y\n",
    "Y_predicted = w * X + b"
   ]
  },
  {
   "cell_type": "code",
   "execution_count": 12,
   "metadata": {},
   "outputs": [],
   "source": [
    "# Step 5: Use the squared error as the loss function\n",
    "\n",
    "loss = tf.square(Y - Y_predicted, name = \"loss\")"
   ]
  },
  {
   "cell_type": "code",
   "execution_count": 13,
   "metadata": {},
   "outputs": [],
   "source": [
    "# Step 6: Create Optimizer:  Using Gradient descent to minimize the loss\n",
    "opt = tf.train.GradientDescentOptimizer(learning_rate = 0.001)\n",
    "optimizer = opt.minimize(loss)"
   ]
  },
  {
   "cell_type": "code",
   "execution_count": 14,
   "metadata": {},
   "outputs": [],
   "source": [
    "# Write the log files using a FileWriter\n",
    "writer = tf.summary.FileWriter('./graphs/linear_reg', tf.get_default_graph())"
   ]
  },
  {
   "cell_type": "code",
   "execution_count": 15,
   "metadata": {},
   "outputs": [
    {
     "name": "stdout",
     "output_type": "stream",
     "text": [
      "Epoch 0: Avg Loss 1661.8637834631543\n",
      "Epoch 20: Avg Loss 119.20935661137888\n",
      "Epoch 40: Avg Loss 37.305591759538146\n",
      "Epoch 60: Avg Loss 30.524590178362192\n",
      "Epoch 80: Avg Loss 30.04458791257593\n"
     ]
    }
   ],
   "source": [
    "# Step 7:Initialize the variable and run optimizer by feeding with dict\n",
    "\n",
    "with tf.Session() as sess:\n",
    "    # Initializing the variables w and b\n",
    "    sess.run(tf.global_variables_initializer())\n",
    "    \n",
    "    #Step 8: Train the model for 100 epochs\n",
    "    for i in range(100):\n",
    "        total_loss = 0\n",
    "        for x, y in data:\n",
    "            # Execute the optimizer and fetch the value of the loss\n",
    "            _, l = sess.run([optimizer,loss],feed_dict = {X:x,Y:y})\n",
    "            total_loss = total_loss + l\n",
    "        if(i%20 ==0):\n",
    "            print(\"Epoch {0}: Avg Loss {1}\".format(i, total_loss/n_samples))\n",
    "    \n",
    "    #Close the graph writer        \n",
    "    writer.close()\n",
    "    \n",
    "    # Get, final values of w and b\n",
    "    w_out, b_out = sess.run([w,b])"
   ]
  },
  {
   "cell_type": "code",
   "execution_count": 17,
   "metadata": {},
   "outputs": [
    {
     "data": {
      "image/png": "[encoded data removed]",
      "text/plain": [
       "<Figure size 432x288 with 1 Axes>"
      ]
     },
     "metadata": {},
     "output_type": "display_data"
    }
   ],
   "source": [
    "plt.plot(data[:,0],data[:,1],'bo', label = \"Real Data\")\n",
    "plt.plot(data[:,0],data[:,0]*w_out + b_out,'r', label = \"Predicted Data\")\n",
    "plt.legend()\n",
    "plt.show()"
   ]
  },
  {
   "cell_type": "markdown",
   "metadata": {},
   "source": [
    "### Hubert loss:\n",
    "- Regular linear regression has problem with outliers.\n",
    "- Hubert Loss: A way for outliers to havtf.reset_default_graph()e less impact on the result.\n",
    "\n",
    "- Can use if (tf.abs(y_predicted-y)< = delta:\n",
    "-    #do something\n",
    "- However, it can only be done in \"eager execution mode\" (will tackle lateR) \n",
    "\n",
    "- will use tf.cond which has has the format\n",
    "    tf.cond(pred, true_function, false_function"
   ]
  },
  {
   "cell_type": "code",
   "execution_count": 118,
   "metadata": {},
   "outputs": [],
   "source": [
    "def huber_loss(labels, pred,delta = 14.0):\n",
    "    residual = tf.abs(labels-pred)\n",
    "    def f1(): return 0.5*tf.square(residual)\n",
    "    def f2(): return delta*residual - 0.5*tf.square(delta)\n",
    "    return tf.cond(residual < delta, f1, f2)\n"
   ]
  },
  {
   "cell_type": "code",
   "execution_count": 119,
   "metadata": {},
   "outputs": [],
   "source": [
    "tf.reset_default_graph()\n",
    "x = tf.placeholder(tf.float32, name =\"x\")\n",
    "y = tf.placeholder(tf.float32, name = \"y\")"
   ]
  },
  {
   "cell_type": "code",
   "execution_count": 120,
   "metadata": {},
   "outputs": [],
   "source": [
    "w = tf.get_variable(\"weights\", initializer = tf.constant(0.0))\n",
    "b = tf.get_variable(\"bias\", initializer = tf.constant(0.0))"
   ]
  },
  {
   "cell_type": "code",
   "execution_count": 121,
   "metadata": {},
   "outputs": [],
   "source": [
    "ypred = w*x + b"
   ]
  },
  {
   "cell_type": "code",
   "execution_count": 122,
   "metadata": {},
   "outputs": [],
   "source": [
    "loss = huber_loss(y, ypred,delta = 14.0)\n",
    "#loss = tf.square(y-ypred, name = \"loss\")"
   ]
  },
  {
   "cell_type": "code",
   "execution_count": 123,
   "metadata": {},
   "outputs": [],
   "source": [
    "opt = tf.train.GradientDescentOptimizer(0.001).minimize(loss)"
   ]
  },
  {
   "cell_type": "code",
   "execution_count": 127,
   "metadata": {},
   "outputs": [
    {
     "name": "stdout",
     "output_type": "stream",
     "text": [
      "Iteration=0-Loss=712.534996434\n",
      "Iteration=20-Loss=262.260425842\n",
      "Iteration=40-Loss=162.846115277\n",
      "Iteration=60-Loss=78.8100727632\n",
      "Iteration=80-Loss=33.1407740321\n",
      "('w:', -4.2249994)\n",
      "('b:', 78.485054)\n"
     ]
    }
   ],
   "source": [
    "with tf.Session() as sess:\n",
    "    sess.run(tf.global_variables_initializer())\n",
    "\n",
    "    for i in range(100):\n",
    "        total_loss = 0\n",
    "        for j,k in data:\n",
    "            _,l = sess.run([opt,loss], feed_dict={x:j,y:k})\n",
    "            total_loss = total_loss + l\n",
    "        \n",
    "        if(i%20 ==0):\n",
    "            print(\"Iteration={0}--Loss={1}\".format(i,total_loss/n_samples))\n",
    "     \n",
    "    w_out = w.eval()\n",
    "    b_out = b.eval()\n",
    "print(\"w:\",w_out)\n",
    "print(\"b:\",b_out)"
   ]
  },
  {
   "cell_type": "code",
   "execution_count": 128,
   "metadata": {},
   "outputs": [
    {
     "data": {
      "image/png": "[encoded data removed]",
      "text/plain": [
       "<Figure size 432x288 with 1 Axes>"
      ]
     },
     "metadata": {},
     "output_type": "display_data"
    }
   ],
   "source": [
    "plt.plot(data[:,0],data[:,1],'bo', label = \"Real Data\")\n",
    "plt.plot(data[:,0],data[:,0]*w_out + b_out,'r', label = \"Predicted Data\")\n",
    "plt.legend()\n",
    "plt.show()"
   ]
  },
  {
   "cell_type": "markdown",
   "metadata": {},
   "source": [
    "## Handling Data parallely"
   ]
  },
  {
   "cell_type": "markdown",
   "metadata": {},
   "source": [
    "- With feed_dicts data processing is outside tensorflow:- makes it easier to shuffle, batch and generate arbitrary data\n",
    "- Drawback: Can slow down the program\n",
    "- users often process data in single thread, creating bottleneck\n",
    "\n",
    "### Another Option: Queues\n",
    "- TF offers queues for handling data.\n",
    "- provides performance and allows pipelining, threading and reduces time for loading data into placeholders\n",
    "- Cons: Unstable, prone to crashing\n",
    "\n",
    "New better way: tf.data module\n",
    "- faster than placeholders\n",
    "- easier than queue\n",
    "- stable"
   ]
  },
  {
   "cell_type": "markdown",
   "metadata": {},
   "source": [
    "How to change the existing model ?\n",
    "- Earlier stored input data in numpy array.\n",
    "- Each row = datapoint\n",
    "- to get this data into TF, created placeholders\n",
    "- Then iterate through each datapoint and feed into feed_dict\n",
    "\n",
    "Idea is to use batches of data points\n",
    "- feeding data in numpy array to tf model is low\n",
    "- with tf.data input is tored in tf.data.Dataset object\n",
    "\n",
    "e.g tf.Dataset.from_tensor_slices((feature,labels))"
   ]
  },
  {
   "cell_type": "code",
   "execution_count": 131,
   "metadata": {},
   "outputs": [
    {
     "data": {
      "text/plain": [
       "190"
      ]
     },
     "execution_count": 131,
     "metadata": {},
     "output_type": "execute_result"
    }
   ],
   "source": [
    "n_samples"
   ]
  },
  {
   "cell_type": "code",
   "execution_count": 145,
   "metadata": {},
   "outputs": [
    {
     "name": "stdout",
     "output_type": "stream",
     "text": [
      "0 Iteration, Loss = 1661.86378346\n",
      "20 Iteration, Loss = 119.209356611\n",
      "40 Iteration, Loss = 37.3055917595\n",
      "60 Iteration, Loss = 30.5245901784\n",
      "80 Iteration, Loss = 30.0445879126\n",
      "190\n"
     ]
    }
   ],
   "source": [
    "tf.reset_default_graph()\n",
    "\n",
    "dataset = tf.data.Dataset.from_tensor_slices((data[:,0],data[:,1])) #<--Note\n",
    "iterator = dataset.make_initializable_iterator() #<-- Note\n",
    "x,y = iterator.get_next() #<-- Note\n",
    "\n",
    "'''\n",
    "placeholder definitions for x and y are not needed\n",
    "x = tf.placeholder(tf.float32, name = 'x') \n",
    "y = tf.placeholder(tf.float32, name  = 'y')\n",
    "'''\n",
    "w = tf.get_variable(name = \"weight\", initializer = tf.constant(0.0))\n",
    "b = tf.get_variable(name = \"bias\", initializer = tf.constant(0.0))\n",
    "\n",
    "ypred = w*x + b\n",
    "loss = tf.square(y-ypred, name = \"loss\")\n",
    "\n",
    "opt = tf.train.GradientDescentOptimizer(learning_rate = 0.001).minimize(loss)\n",
    "\n",
    "with tf.Session() as sess:\n",
    "    sess.run(tf.global_variables_initializer())\n",
    "    \n",
    "    for i in range(100):\n",
    "        sess.run(iterator.initializer) #<-- Initialize Itertor\n",
    "        total_loss = 0\n",
    "        k = 0   \n",
    "        try:\n",
    "            while True:\n",
    "                _,l = sess.run([opt,loss]) #<-- Each time this is called, iterator gets the next x,y pair\n",
    "                total_loss += l\n",
    "                k +=1\n",
    "        except tf.errors.OutOfRangeError:\n",
    "            pass\n",
    "        \n",
    "    \n",
    "        if(i%20==0):\n",
    "            print(\"{0} Iteration, Loss = {1}\".format(i,total_loss/n_samples))\n",
    "\n",
    "    w_out = w.eval()\n",
    "    b_out = b.eval(_)\n",
    "    print(k)"
   ]
  },
  {
   "cell_type": "markdown",
   "metadata": {},
   "source": [
    "### Note about Optimizer\n",
    "- Opt = tf.train.GradientDescentOptimizer(learning_rate = 0.001).minimize(loss)\n",
    "- optimizer is an op -> for minimizing loss\n",
    "- Tf executes optimizer and will execute part of graph this op depends on.\n",
    "- opt depends on loss which in turn depends on y and ypred; ypred depends on w,x and b\n",
    "- By default, optimizer trains all trainable variables its objective function depends on.\n",
    "- variables that should not be trained, can be indicated by setting trainable = False"
   ]
  }
 ],
 "metadata": {
  "kernelspec": {
   "display_name": "Python 3",
   "language": "python",
   "name": "python3"
  },
  "language_info": {
   "codemirror_mode": {
    "name": "ipython",
    "version": 3
   },
   "file_extension": ".py",
   "mimetype": "text/x-python",
   "name": "python",
   "nbconvert_exporter": "python",
   "pygments_lexer": "ipython3",
   "version": "3.6.6"
  }
 },
 "nbformat": 4,
 "nbformat_minor": 2
}
