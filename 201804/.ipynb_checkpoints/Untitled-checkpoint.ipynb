{
 "cells": [
  {
   "cell_type": "code",
   "execution_count": 1,
   "metadata": {},
   "outputs": [
    {
     "name": "stderr",
     "output_type": "stream",
     "text": [
      "/home/ubuntu/anaconda3/envs/tensorflow_p36/lib/python3.6/site-packages/h5py/__init__.py:36: FutureWarning: Conversion of the second argument of issubdtype from `float` to `np.floating` is deprecated. In future, it will be treated as `np.float64 == np.dtype(float).type`.\n",
      "  from ._conv import register_converters as _register_converters\n"
     ]
    }
   ],
   "source": [
    "import tensorflow as tf\n",
    "import numpy as np\n",
    "import os\n",
    "import time\n",
    "import matplotlib.pyplot as pl\n",
    "import examples.utils as utils"
   ]
  },
  {
   "cell_type": "code",
   "execution_count": 2,
   "metadata": {},
   "outputs": [],
   "source": [
    "data = 'examples/data/birth_life_2010.txt'"
   ]
  },
  {
   "cell_type": "code",
   "execution_count": 3,
   "metadata": {},
   "outputs": [],
   "source": [
    "data, n_samples = utils.read_birth_life_data(data)"
   ]
  },
  {
   "cell_type": "code",
   "execution_count": 4,
   "metadata": {},
   "outputs": [
    {
     "data": {
      "text/plain": [
       "(190, 2)"
      ]
     },
     "execution_count": 4,
     "metadata": {},
     "output_type": "execute_result"
    }
   ],
   "source": [
    "np.shape(data)"
   ]
  },
  {
   "cell_type": "code",
   "execution_count": 5,
   "metadata": {},
   "outputs": [],
   "source": [
    "tf.reset_default_graph()\n",
    "X = tf.placeholder(tf.float32, name = \"X\")\n",
    "Y = tf.placeholder(tf.float32, name = \"Y\")"
   ]
  },
  {
   "cell_type": "code",
   "execution_count": 6,
   "metadata": {},
   "outputs": [],
   "source": [
    "w = tf.get_variable(\"weights\", initializer = tf.constant(0.0))\n",
    "b = tf.get_variable(\"bias\", initializer = tf.constant(0.0))\n",
    "Y_pred = w*X+b\n",
    "loss = tf.square(Y - Y_pred, name = \"loss\")"
   ]
  },
  {
   "cell_type": "code",
   "execution_count": 7,
   "metadata": {},
   "outputs": [],
   "source": [
    "opt = tf.train.GradientDescentOptimizer(learning_rate = 0.001)\n",
    "optimizer = opt.minimize(loss)"
   ]
  },
  {
   "cell_type": "code",
   "execution_count": 8,
   "metadata": {},
   "outputs": [],
   "source": [
    "opgraph = './graphs/linear_reg_'+ time.strftime('%Y%m%d_%H%M',(time.gmtime(time.time()-60*60*7)))\n",
    "writer = tf.summary.FileWriter(opgraph, tf.get_default_graph())"
   ]
  },
  {
   "cell_type": "code",
   "execution_count": 14,
   "metadata": {},
   "outputs": [
    {
     "name": "stdout",
     "output_type": "stream",
     "text": [
      "Epoch 0: Average Loss:1661.8637834631543 \n",
      "Epoch 20: Average Loss:119.20935661137888 \n",
      "Epoch 40: Average Loss:37.305591759538146 \n",
      "Epoch 60: Average Loss:30.524590178362192 \n",
      "Epoch 80: Average Loss:30.04458791257593 \n"
     ]
    }
   ],
   "source": [
    "with tf.Session() as sess:\n",
    "    sess.run(tf.global_variables_initializer())\n",
    "    \n",
    "    for i in range(100):\n",
    "        total_loss = 0\n",
    "        for x, y in data:\n",
    "            _,l = sess.run([optimizer,loss], feed_dict = {X:x,Y:y})\n",
    "            total_loss = total_loss + l\n",
    "        \n",
    "        if(i%20 == 0):\n",
    "            print(\"Epoch {0}: Average Loss:{1} \".format(i,total_loss/n_samples))\n",
    "    \n",
    "    \n",
    "    writer.close()\n",
    "    w_out, b_out = sess.run([w,b])"
   ]
  },
  {
   "cell_type": "code",
   "execution_count": 21,
   "metadata": {},
   "outputs": [
    {
     "name": "stdout",
     "output_type": "stream",
     "text": [
      "Epoch - 0, Average loss = 1661.8637834631543\n",
      "Epoch - 20, Average loss = 119.20935661137888\n",
      "Epoch - 40, Average loss = 37.305591759538146\n",
      "Epoch - 60, Average loss = 30.524590178362192\n",
      "Epoch - 80, Average loss = 30.04458791257593\n"
     ]
    }
   ],
   "source": [
    "tf.reset_default_graph()\n",
    "dataset = tf.data.Dataset.from_tensor_slices((data[:,0],data[:,1]))\n",
    "iterator = dataset.make_initializable_iterator()\n",
    "x,y = iterator.get_next()\n",
    "\n",
    "\n",
    "w = tf.get_variable(name = \"weight\", initializer = tf.constant(0.0))\n",
    "b = tf.get_variable(name = \"bias\", initializer = tf.constant(0.0))\n",
    "\n",
    "\n",
    "ypred = w*x + b\n",
    "loss = tf.square(y-ypred, name = \"loss\")\n",
    "opt = tf.train.GradientDescentOptimizer(learning_rate = 0.001).minimize(loss)\n",
    "\n",
    "with tf.Session() as sess:\n",
    "    sess.run(tf.global_variables_initializer())\n",
    "    \n",
    "    for i in range(100):\n",
    "        sess.run(iterator.initializer)\n",
    "        total_loss = 0\n",
    "        k = 0\n",
    "        try:\n",
    "            while True:\n",
    "                _,l = sess.run([opt,loss])\n",
    "                total_loss += l\n",
    "                k = k+1\n",
    "        except tf.errors.OutOfRangeError:\n",
    "            pass\n",
    "        \n",
    "        if(i%20 == 0):\n",
    "            print(\"Epoch - {0}, Average loss = {1}\".format(i,total_loss/n_samples))\n",
    "            \n",
    "    \n",
    "    w_out, b_out = sess.run([w,b])\n",
    "    "
   ]
  },
  {
   "cell_type": "code",
   "execution_count": null,
   "metadata": {},
   "outputs": [],
   "source": []
  }
 ],
 "metadata": {
  "kernelspec": {
   "display_name": "Python 3",
   "language": "python",
   "name": "python3"
  },
  "language_info": {
   "codemirror_mode": {
    "name": "ipython",
    "version": 3
   },
   "file_extension": ".py",
   "mimetype": "text/x-python",
   "name": "python",
   "nbconvert_exporter": "python",
   "pygments_lexer": "ipython3",
   "version": "3.6.6"
  }
 },
 "nbformat": 4,
 "nbformat_minor": 2
}
