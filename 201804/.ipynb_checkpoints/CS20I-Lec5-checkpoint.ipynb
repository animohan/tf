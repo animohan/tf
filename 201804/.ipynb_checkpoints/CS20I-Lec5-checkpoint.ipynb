{
 "cells": [
  {
   "cell_type": "code",
   "execution_count": 1,
   "metadata": {},
   "outputs": [],
   "source": [
    "#### Lecture 5: Word2Vec"
   ]
  },
  {
   "cell_type": "code",
   "execution_count": 2,
   "metadata": {},
   "outputs": [
    {
     "name": "stderr",
     "output_type": "stream",
     "text": [
      "/home/ubuntu/anaconda3/envs/tensorflow_p36/lib/python3.6/site-packages/h5py/__init__.py:36: FutureWarning: Conversion of the second argument of issubdtype from `float` to `np.floating` is deprecated. In future, it will be treated as `np.float64 == np.dtype(float).type`.\n",
      "  from ._conv import register_converters as _register_converters\n"
     ]
    }
   ],
   "source": [
    "import tensorflow as tf\n",
    "import numpy as np\n",
    "import time\n",
    "import os\n",
    "import matplotlib.pyplot as plt"
   ]
  },
  {
   "cell_type": "code",
   "execution_count": 3,
   "metadata": {},
   "outputs": [],
   "source": [
    "from tensorflow.contrib.tensorboard.plugins import projector\n",
    "import utils\n",
    "import word2vec_utils"
   ]
  },
  {
   "cell_type": "code",
   "execution_count": 4,
   "metadata": {},
   "outputs": [],
   "source": [
    "# Model Hyperparameters\n",
    "VOCAB_SIZE = 50000\n",
    "BATCH_SIZE = 128\n",
    "EMBED_SIZE = 129\n",
    "SKIP_WINDOW = 1\n",
    "NUM_SAMPLED = 64\n",
    "LEARNING_RATE = 1.0\n",
    "NUM_TRAIN_STEPS = 100000\n",
    "VISUAL_FLD = 'visualization'\n",
    "SKIP_STEP = 5000"
   ]
  },
  {
   "cell_type": "code",
   "execution_count": 5,
   "metadata": {},
   "outputs": [],
   "source": [
    "DOWNLOAD_URL = \"http://mattmahoney.net/dc/text8.zip\"\n",
    "EXPECTED_BYTES = 31344016\n",
    "NUM_VISUALIZE = 3000"
   ]
  },
  {
   "cell_type": "code",
   "execution_count": 6,
   "metadata": {},
   "outputs": [],
   "source": [
    "class skipGramModel:\n",
    "    #Build graph for the word2vec model\n",
    "    def __init__(self, dataset, vocab_size, embed_size, batch_size, num_sampled, learning_rate):\n",
    "        self.vocab_size = vocab_size\n",
    "        self.embed_size = embed_size\n",
    "        self.batch_size = batch_size\n",
    "        self.num_sampled = num_sampled\n",
    "        self.lr = learning_rate\n",
    "        self.global_step = tf.get_variable('global_step', initializer = tf.constant(0), trainable = False)\n",
    "        self.skip_step = SKIP_STEP\n",
    "        self.dataset = dataset\n",
    "        \n",
    "    \n",
    "    \n",
    "    def _import_data(self):\n",
    "        #Step 1: import data\n",
    "        with tf.name_scope('data'):\n",
    "            self.iterator = self.dataset.make_initializable_iterator()\n",
    "            self.center_words , self.target_words = self.iterator.get_next()\n",
    "    \n",
    "    def _create_embedding(self):\n",
    "        #Step 2 & 3: Define weights and embedding lookup.\n",
    "        \n",
    "        with tf.name_scope('embed'):\n",
    "            self.embed_matrix = tf.get_variable('embed_matrix',\n",
    "                                               shape = [self.vocab_size, self.embed_size],\n",
    "                                               initializer = tf.random_uniform_initializer())\n",
    "            self.embed = tf.nn.embedding_lookup(self.embed_matrix, self.center_words, name = 'embedding')\n",
    "    \n",
    "    def _create_loss(self):\n",
    "        #Define the loss function\n",
    "        with tf.name_scope('loss'):\n",
    "            nce_weight = tf.get_variable('nce_weight', shape = [self.vocab_size,self.embed_size],\n",
    "                                        initializer = tf.truncated_normal_initializer(stddev= 1.0 / (self.embed_size ** 0.5)))\n",
    "            nce_bias = tf.get_variable('nce_bias', initializer = tf.zeros([VOCAB_SIZE]))\n",
    "            \n",
    "            #define loss function ot be NCE loss function\n",
    "            self.loss = tf.reduce_mean(tf.nn.nce_loss(weights = nce_weight,\n",
    "                                                      biases = nce_bias,\n",
    "                                                      labels = self.target_words,\n",
    "                                                      inputs= self.embed,\n",
    "                                                      num_sampled = self.num_sampled,\n",
    "                                                      num_classes = self.vocab_size),\n",
    "                                                      name = 'loss')\n",
    "            \n",
    "    def _create_optimizer(self):\n",
    "        #Step 4: Define Optimizer\n",
    "        self.optimizer = tf.train.GradientDescentOptimizer(learning_rate = self.lr).minimize(self.loss,\n",
    "                                                                                            global_step = self.global_step)\n",
    "        \n",
    "        \n",
    "    def _create_summaries(self):\n",
    "        with tf.name_scope('summaries'):\n",
    "            tf.summary.scalar(\"loss\",self.loss)\n",
    "            tf.summary.histogram('histogram_loss', self.loss)\n",
    "            self.summary_op = tf.summary.merge_all()\n",
    "            \n",
    "    \n",
    "    \n",
    "    def build_graph(self):\n",
    "        #Build the graph for the mode\n",
    "        self._import_data()\n",
    "        self._create_embedding()\n",
    "        self._create_loss()\n",
    "        self._create_optimizer()\n",
    "        self._create_summaries()\n",
    "        \n",
    "    \n",
    "    def train(self, num_train_steps):\n",
    "        saver = tf.train.Saver()\n",
    "        \n",
    "        initial_step = 0\n",
    "        utils.safe_mkdir('checkpoints')\n",
    "        with tf.Session() as sess:\n",
    "            sess.run(self.iterator.initializer)\n",
    "            sess.run(tf.global_variables_initializer())\n",
    "            ckpt = tf.train.get_checkpoint_state(os.path.dirname('checkpoints/checkpoint'))\n",
    "            \n",
    "            # if the checkpoint exists, restor from the checkpoint\n",
    "            if ckpt and ckpt.model_check_point_path:\n",
    "                saver.restore(sess, ckpt.model_checkpoint_path)\n",
    "            \n",
    "            \n",
    "            total_loss = 0.0\n",
    "            writer = tf.summary.FileWriter('graphs/word2vec/lr' + str(self.lr), sess.graph)\n",
    "            initial_step = self.global_step.eval()\n",
    "            \n",
    "            for index in range(initial_step, initial_step + num_train_steps):\n",
    "                try:\n",
    "                    loss_batch,_,summary = sess.run([self.loss, self.optimizer, self.summary_op])\n",
    "                    writer.add_summary(summary, global_step = index)\n",
    "                    total_loss += loss_batch\n",
    "                    if(index +1) % self.skip_step == 0 :\n",
    "                        print('Average loss at step {}:{:5.1f}'.format(index, total_loss/self.skip_step))\n",
    "                        total_loss = 0.0\n",
    "                        saver.save(sess, 'checkpoints/skip-gram', index)\n",
    "                except tf.errors.OutOfRangeError:\n",
    "                              sess.run(self.iterator.initializer)\n",
    "            writer.close()\n",
    "            \n",
    "            \n",
    "    def visualize(self, visual_fld, num_visualize):\n",
    "            word2vec_utils.most_common_words(visual_fld, num_visualize)\n",
    "            saver = tf.train.Saver()\n",
    "            \n",
    "            with tf.Session() as sess:\n",
    "                sess.run(tf.global_variables_initializer())\n",
    "                ckpt = tf.train.get_checkpoint_state(os.path.dirname('checkpoints/checkpoint')) \n",
    "                \n",
    "                if ckpt and ckpt.model_checkpoint_path:\n",
    "                    saver.restore(sess, ckpt.model_checkpoint_path)\n",
    "                                                        \n",
    "                final_embed_matrix = sess.run(self.embed_matrix)\n",
    "                embedding_var = tf.Variable(final_embed_matrix[:num_visualize], name = \"embedding\")\n",
    "                sess.run(embedding_var.initializer)\n",
    "\n",
    "                config = projector.ProjectorConfig()\n",
    "                summary_writer = tf.summary.FileWriter(visual_fld)\n",
    "\n",
    "                embedding = config.embeddings.add()\n",
    "                embedding.tensor_name = embedding_var.name\n",
    "\n",
    "                embedding.metadata_path = 'vocab_' +str(num_visualize) + '.tsv'\n",
    "\n",
    "                projector.visualize_embeddings(summary_writer, config)\n",
    "                saver_embed = tf.train.Saver([embedding_var])\n",
    "                saver_embed.save(sess, os.path.join(visual_fld,'model.ckpt'),1)"
   ]
  },
  {
   "cell_type": "code",
   "execution_count": 7,
   "metadata": {},
   "outputs": [
    {
     "name": "stdout",
     "output_type": "stream",
     "text": [
      "data/text8.zip already exists\n",
      "Average loss at step 4999: 65.2\n"
     ]
    },
    {
     "ename": "NameError",
     "evalue": "name 'saver' is not defined",
     "output_type": "error",
     "traceback": [
      "\u001b[0;31m---------------------------------------------------------------------------\u001b[0m",
      "\u001b[0;31mNameError\u001b[0m                                 Traceback (most recent call last)",
      "\u001b[0;32m<ipython-input-7-ecfc0157779e>\u001b[0m in \u001b[0;36m<module>\u001b[0;34m()\u001b[0m\n\u001b[1;32m     15\u001b[0m \u001b[0;34m\u001b[0m\u001b[0m\n\u001b[1;32m     16\u001b[0m \u001b[0;32mif\u001b[0m \u001b[0m__name__\u001b[0m \u001b[0;34m==\u001b[0m \u001b[0;34m'__main__'\u001b[0m\u001b[0;34m:\u001b[0m\u001b[0;34m\u001b[0m\u001b[0m\n\u001b[0;32m---> 17\u001b[0;31m     \u001b[0mmain\u001b[0m\u001b[0;34m(\u001b[0m\u001b[0;34m)\u001b[0m\u001b[0;34m\u001b[0m\u001b[0m\n\u001b[0m\u001b[1;32m     18\u001b[0m \u001b[0;34m\u001b[0m\u001b[0m\n",
      "\u001b[0;32m<ipython-input-7-ecfc0157779e>\u001b[0m in \u001b[0;36mmain\u001b[0;34m()\u001b[0m\n\u001b[1;32m     11\u001b[0m     \u001b[0mmodel\u001b[0m \u001b[0;34m=\u001b[0m \u001b[0mskipGramModel\u001b[0m\u001b[0;34m(\u001b[0m\u001b[0mdataset\u001b[0m\u001b[0;34m,\u001b[0m \u001b[0mVOCAB_SIZE\u001b[0m\u001b[0;34m,\u001b[0m\u001b[0mEMBED_SIZE\u001b[0m\u001b[0;34m,\u001b[0m \u001b[0mBATCH_SIZE\u001b[0m\u001b[0;34m,\u001b[0m \u001b[0mNUM_SAMPLED\u001b[0m\u001b[0;34m,\u001b[0m \u001b[0mLEARNING_RATE\u001b[0m\u001b[0;34m)\u001b[0m\u001b[0;34m\u001b[0m\u001b[0m\n\u001b[1;32m     12\u001b[0m     \u001b[0mmodel\u001b[0m\u001b[0;34m.\u001b[0m\u001b[0mbuild_graph\u001b[0m\u001b[0;34m(\u001b[0m\u001b[0;34m)\u001b[0m\u001b[0;34m\u001b[0m\u001b[0m\n\u001b[0;32m---> 13\u001b[0;31m     \u001b[0mmodel\u001b[0m\u001b[0;34m.\u001b[0m\u001b[0mtrain\u001b[0m\u001b[0;34m(\u001b[0m\u001b[0mNUM_TRAIN_STEPS\u001b[0m\u001b[0;34m)\u001b[0m\u001b[0;34m\u001b[0m\u001b[0m\n\u001b[0m\u001b[1;32m     14\u001b[0m     \u001b[0mmodel\u001b[0m\u001b[0;34m.\u001b[0m\u001b[0mvisualize\u001b[0m\u001b[0;34m(\u001b[0m\u001b[0mVISUAL_FLD\u001b[0m\u001b[0;34m,\u001b[0m \u001b[0mNUM_VISUALIZE\u001b[0m\u001b[0;34m)\u001b[0m\u001b[0;34m\u001b[0m\u001b[0m\n\u001b[1;32m     15\u001b[0m \u001b[0;34m\u001b[0m\u001b[0m\n",
      "\u001b[0;32m<ipython-input-6-b2f9dc3c5975>\u001b[0m in \u001b[0;36mtrain\u001b[0;34m(self, num_train_steps)\u001b[0m\n\u001b[1;32m     94\u001b[0m                         \u001b[0mprint\u001b[0m\u001b[0;34m(\u001b[0m\u001b[0;34m'Average loss at step {}:{:5.1f}'\u001b[0m\u001b[0;34m.\u001b[0m\u001b[0mformat\u001b[0m\u001b[0;34m(\u001b[0m\u001b[0mindex\u001b[0m\u001b[0;34m,\u001b[0m \u001b[0mtotal_loss\u001b[0m\u001b[0;34m/\u001b[0m\u001b[0mself\u001b[0m\u001b[0;34m.\u001b[0m\u001b[0mskip_step\u001b[0m\u001b[0;34m)\u001b[0m\u001b[0;34m)\u001b[0m\u001b[0;34m\u001b[0m\u001b[0m\n\u001b[1;32m     95\u001b[0m                         \u001b[0mtotal_loss\u001b[0m \u001b[0;34m=\u001b[0m \u001b[0;36m0.0\u001b[0m\u001b[0;34m\u001b[0m\u001b[0m\n\u001b[0;32m---> 96\u001b[0;31m                         \u001b[0msaver\u001b[0m\u001b[0;34m.\u001b[0m\u001b[0msave\u001b[0m\u001b[0;34m(\u001b[0m\u001b[0msess\u001b[0m\u001b[0;34m,\u001b[0m \u001b[0;34m'checkpoints/skip-gram'\u001b[0m\u001b[0;34m,\u001b[0m \u001b[0mindex\u001b[0m\u001b[0;34m)\u001b[0m\u001b[0;34m\u001b[0m\u001b[0m\n\u001b[0m\u001b[1;32m     97\u001b[0m                 \u001b[0;32mexcept\u001b[0m \u001b[0mtf\u001b[0m\u001b[0;34m.\u001b[0m\u001b[0merrors\u001b[0m\u001b[0;34m.\u001b[0m\u001b[0mOutOfRangeError\u001b[0m\u001b[0;34m:\u001b[0m\u001b[0;34m\u001b[0m\u001b[0m\n\u001b[1;32m     98\u001b[0m                               \u001b[0msess\u001b[0m\u001b[0;34m.\u001b[0m\u001b[0mrun\u001b[0m\u001b[0;34m(\u001b[0m\u001b[0mself\u001b[0m\u001b[0;34m.\u001b[0m\u001b[0miterator\u001b[0m\u001b[0;34m.\u001b[0m\u001b[0minitializer\u001b[0m\u001b[0;34m)\u001b[0m\u001b[0;34m\u001b[0m\u001b[0m\n",
      "\u001b[0;31mNameError\u001b[0m: name 'saver' is not defined"
     ]
    }
   ],
   "source": [
    "tf.reset_default_graph()\n",
    "def gen():\n",
    "    yield from word2vec_utils.batch_gen(DOWNLOAD_URL, EXPECTED_BYTES,VOCAB_SIZE, BATCH_SIZE,\n",
    "                                           SKIP_WINDOW, VISUAL_FLD)\n",
    "    \n",
    "    \n",
    "def main():\n",
    "    dataset = tf.data.Dataset.from_generator(gen,(tf.int32,tf.int32), (tf.TensorShape([BATCH_SIZE]),\n",
    "                                                                          tf.TensorShape([BATCH_SIZE,1])))\n",
    "        \n",
    "    model = skipGramModel(dataset, VOCAB_SIZE,EMBED_SIZE, BATCH_SIZE, NUM_SAMPLED, LEARNING_RATE)\n",
    "    model.build_graph()\n",
    "    model.train(NUM_TRAIN_STEPS)\n",
    "    model.visualize(VISUAL_FLD, NUM_VISUALIZE)\n",
    "\n",
    "if __name__ == '__main__':\n",
    "    main()\n",
    "        "
   ]
  },
  {
   "cell_type": "code",
   "execution_count": null,
   "metadata": {},
   "outputs": [],
   "source": []
  }
 ],
 "metadata": {
  "kernelspec": {
   "display_name": "Python 3",
   "language": "python",
   "name": "python3"
  },
  "language_info": {
   "codemirror_mode": {
    "name": "ipython",
    "version": 3
   },
   "file_extension": ".py",
   "mimetype": "text/x-python",
   "name": "python",
   "nbconvert_exporter": "python",
   "pygments_lexer": "ipython3",
   "version": "3.6.6"
  }
 },
 "nbformat": 4,
 "nbformat_minor": 2
}
