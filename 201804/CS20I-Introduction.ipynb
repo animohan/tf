{
 "cells": [
  {
   "cell_type": "markdown",
   "metadata": {},
   "source": [
    "Site:http://web.stanford.edu/class/cs20si/\n",
    "\n",
    "Lecture: \n",
    "Step 1: Assemble a graph\n",
    "Step 2: User a session to execute the graph"
   ]
  },
  {
   "cell_type": "markdown",
   "metadata": {},
   "source": [
    "What is a Tensor?\n",
    "0-d Tensor - Scalar\n",
    "1-d Tensor - Vector\n",
    "2-d Tensor - Matrix\n",
    "..so on"
   ]
  },
  {
   "cell_type": "code",
   "execution_count": 1,
   "metadata": {},
   "outputs": [
    {
     "ename": "ImportError",
     "evalue": "No module named tensorflow",
     "output_type": "error",
     "traceback": [
      "\u001b[0;31m---------------------------------------------------------------------------\u001b[0m",
      "\u001b[0;31mImportError\u001b[0m                               Traceback (most recent call last)",
      "\u001b[0;32m<ipython-input-1-c16293098548>\u001b[0m in \u001b[0;36m<module>\u001b[0;34m()\u001b[0m\n\u001b[0;32m----> 1\u001b[0;31m \u001b[0;32mimport\u001b[0m \u001b[0mtensorflow\u001b[0m \u001b[0;32mas\u001b[0m \u001b[0mtf\u001b[0m\u001b[0;34m\u001b[0m\u001b[0m\n\u001b[0m\u001b[1;32m      2\u001b[0m \u001b[0;32mimport\u001b[0m \u001b[0mnumpy\u001b[0m \u001b[0;32mas\u001b[0m \u001b[0mnp\u001b[0m\u001b[0;34m\u001b[0m\u001b[0m\n",
      "\u001b[0;31mImportError\u001b[0m: No module named tensorflow"
     ]
    }
   ],
   "source": [
    "import tensorflow as tf\n",
    "import numpy as np"
   ]
  },
  {
   "cell_type": "code",
   "execution_count": 2,
   "metadata": {},
   "outputs": [
    {
     "name": "stdout",
     "output_type": "stream",
     "text": [
      "Tensor(\"Add:0\", shape=(), dtype=int32)\n"
     ]
    }
   ],
   "source": [
    "a = tf.add(2,3)\n",
    "print(a)"
   ]
  },
  {
   "cell_type": "markdown",
   "metadata": {},
   "source": [
    "Printing a does not give the result, but it gives the node information. The node has not been executed."
   ]
  },
  {
   "cell_type": "code",
   "execution_count": 3,
   "metadata": {},
   "outputs": [
    {
     "name": "stdout",
     "output_type": "stream",
     "text": [
      "Tensor(\"Add_1:0\", shape=(), dtype=float32)\n"
     ]
    }
   ],
   "source": [
    "b = tf.add(3.0, 5.0)\n",
    "print(b)"
   ]
  },
  {
   "cell_type": "markdown",
   "metadata": {},
   "source": [
    "Tensors are just data. \n",
    "Data Flow is the Tensor flow graph\n",
    "Now how to get the value of a and b. Run it as part of session. Running in a session means that running with all available resources."
   ]
  },
  {
   "cell_type": "code",
   "execution_count": 4,
   "metadata": {},
   "outputs": [
    {
     "name": "stdout",
     "output_type": "stream",
     "text": [
      "5\n"
     ]
    }
   ],
   "source": [
    "#Create a session; Run the code for 'a' and print the result.\n",
    "sess = tf.Session()\n",
    "print(sess.run(a)) # Tensor looks at value of node a and calculates the node value.\n",
    "sess.close()"
   ]
  },
  {
   "cell_type": "code",
   "execution_count": 5,
   "metadata": {},
   "outputs": [
    {
     "name": "stdout",
     "output_type": "stream",
     "text": [
      "5\n"
     ]
    }
   ],
   "source": [
    "with tf.Session() as sess:\n",
    "    print(sess.run(a)) # Using \"With\""
   ]
  },
  {
   "cell_type": "markdown",
   "metadata": {},
   "source": [
    "tf.Session(): A Session object encapsulates the environment in which Operation objects are executed and Tensor objects are evaluated.\n",
    "\n",
    "Session will also allocate memory to store the current values of the variables"
   ]
  },
  {
   "cell_type": "markdown",
   "metadata": {},
   "source": [
    "### Another Tensor graph"
   ]
  },
  {
   "cell_type": "code",
   "execution_count": 6,
   "metadata": {},
   "outputs": [
    {
     "name": "stdout",
     "output_type": "stream",
     "text": [
      "7776\n"
     ]
    }
   ],
   "source": [
    "x = 2\n",
    "y = 3\n",
    "op1 = tf.add(x,y)\n",
    "op2 = tf.multiply(x,y)\n",
    "op3 = tf.pow(op2, op1)\n",
    "with tf.Session() as sess:\n",
    "    op3 = sess.run(op3)\n",
    "    print(op3)"
   ]
  },
  {
   "cell_type": "markdown",
   "metadata": {},
   "source": [
    "In the above example; just running the node for op3 enumerates all the previous nodes which are required to evaluate op3"
   ]
  },
  {
   "cell_type": "code",
   "execution_count": 7,
   "metadata": {},
   "outputs": [
    {
     "name": "stdout",
     "output_type": "stream",
     "text": [
      "7776\n"
     ]
    }
   ],
   "source": [
    "x = 2\n",
    "y = 3\n",
    "op1 = tf.add(x,y)\n",
    "op2 = tf.multiply(x,y)\n",
    "\n",
    "useless = tf.multiply(x, op1)\n",
    "\n",
    "op3 = tf.pow(op2, op1)\n",
    "with tf.Session() as sess:\n",
    "    op3 = sess.run(op3)\n",
    "    print(op3)"
   ]
  },
  {
   "cell_type": "markdown",
   "metadata": {},
   "source": [
    "useless is not required in the sess.run for op3; 'useless' is not evaulated. If we need to get output then it will be run.\n",
    "\n",
    "However, you can explicitly calculate the useless part if needed"
   ]
  },
  {
   "cell_type": "code",
   "execution_count": 8,
   "metadata": {},
   "outputs": [
    {
     "name": "stdout",
     "output_type": "stream",
     "text": [
      "[7776, 10]\n"
     ]
    }
   ],
   "source": [
    "x = 2\n",
    "y = 3\n",
    "op1 = tf.add(x,y)\n",
    "op2 = tf.multiply(x,y)\n",
    "\n",
    "useless = tf.multiply(x, op1)\n",
    "\n",
    "op3 = tf.pow(op2, op1)\n",
    "with tf.Session() as sess:\n",
    "    k = sess.run([op3,useless])\n",
    "print(k)"
   ]
  },
  {
   "cell_type": "markdown",
   "metadata": {},
   "source": [
    "The computations are divided into graphs and subgraphs and each sub-graph cna be evaluated independently on different kind of machines."
   ]
  },
  {
   "cell_type": "code",
   "execution_count": 9,
   "metadata": {},
   "outputs": [
    {
     "name": "stdout",
     "output_type": "stream",
     "text": [
      "[[49. 45.]\n",
      " [42. 43.]]\n"
     ]
    }
   ],
   "source": [
    "# General Matrix mulitplication\n",
    "a = tf.constant([2.0, 5.0, 3.0, 4.0], shape = [2,2], name = 'a')\n",
    "b = tf.constant([2.0, 5.0,9.0, 7.0], shape = [2,2], name = 'b')\n",
    "c = tf.matmul(a,b)\n",
    "\n",
    "with tf.Session() as sess: \n",
    "    print(sess.run(c))"
   ]
  },
  {
   "cell_type": "code",
   "execution_count": 10,
   "metadata": {},
   "outputs": [
    {
     "name": "stdout",
     "output_type": "stream",
     "text": [
      "[[49. 45.]\n",
      " [42. 43.]]\n"
     ]
    }
   ],
   "source": [
    "# Distributed Computation on specific device\n",
    "with tf.device('/cpu:0'):\n",
    "    a = tf.constant([2.0, 5.0, 3.0, 4.0], shape = [2,2], name = 'a')\n",
    "    b = tf.constant([2.0, 5.0,9.0, 7.0], shape = [2,2], name = 'b')\n",
    "    c = tf.matmul(a,b)\n",
    "    \n",
    "# Create a session with log_device_placement set to true\n",
    "sess = tf.Session(config = tf.ConfigProto(log_device_placement = True))\n",
    "\n",
    "# Run the op\n",
    "print(sess.run(c))"
   ]
  },
  {
   "cell_type": "markdown",
   "metadata": {},
   "source": [
    "What about more graph?\n",
    "Tensorflow provides default graph. You can build more graphs, but recommendation is to use one graph."
   ]
  },
  {
   "cell_type": "markdown",
   "metadata": {},
   "source": [
    "### Why Graphs?\n",
    "Lecture covers a discussion on creating a new graph and adding node to it for computation. General reco from course instructor is to use only 1 graph. \n",
    "\n",
    "Why use graphs though ?\n",
    "- We can partition graphs and run the subgraphs that are relevant for particular computation.\n",
    "- Partiton the computation logic into smaller pieces which can be then distributed to different gpu/cps\n",
    "- Directed Acyclyic graph models are used in Neural networks and this architecture aligns with that."
   ]
  },
  {
   "cell_type": "markdown",
   "metadata": {},
   "source": [
    "20180422- Updated notes\n",
    "- Prefer not to create multiple graphs\n",
    "- multiple graphs require multiple sessions and each session will try to use all the resources.\n",
    "- Difficult to pass data between graps; apparently requires python/numpy to do that and breaks the distributed paradigm\n",
    "- preference: Have disconnected subgraphs within one graph"
   ]
  },
  {
   "cell_type": "code",
   "execution_count": 11,
   "metadata": {},
   "outputs": [
    {
     "ename": "ValueError",
     "evalue": "Fetch argument <tf.Tensor 'Add:0' shape=() dtype=int32> cannot be interpreted as a Tensor. (Tensor Tensor(\"Add:0\", shape=(), dtype=int32) is not an element of this graph.)",
     "output_type": "error",
     "traceback": [
      "\u001b[0;31m---------------------------------------------------------------------------\u001b[0m",
      "\u001b[0;31mValueError\u001b[0m                                Traceback (most recent call last)",
      "\u001b[0;32m/home/animo/anaconda3/lib/python3.5/site-packages/tensorflow/python/client/session.py\u001b[0m in \u001b[0;36m__init__\u001b[0;34m(self, fetches, contraction_fn)\u001b[0m\n\u001b[1;32m    281\u001b[0m         self._unique_fetches.append(ops.get_default_graph().as_graph_element(\n\u001b[0;32m--> 282\u001b[0;31m             fetch, allow_tensor=True, allow_operation=True))\n\u001b[0m\u001b[1;32m    283\u001b[0m       \u001b[0;32mexcept\u001b[0m \u001b[0mTypeError\u001b[0m \u001b[0;32mas\u001b[0m \u001b[0me\u001b[0m\u001b[0;34m:\u001b[0m\u001b[0;34m\u001b[0m\u001b[0m\n",
      "\u001b[0;32m/home/animo/anaconda3/lib/python3.5/site-packages/tensorflow/python/framework/ops.py\u001b[0m in \u001b[0;36mas_graph_element\u001b[0;34m(self, obj, allow_tensor, allow_operation)\u001b[0m\n\u001b[1;32m   3477\u001b[0m     \u001b[0;32mwith\u001b[0m \u001b[0mself\u001b[0m\u001b[0;34m.\u001b[0m\u001b[0m_lock\u001b[0m\u001b[0;34m:\u001b[0m\u001b[0;34m\u001b[0m\u001b[0m\n\u001b[0;32m-> 3478\u001b[0;31m       \u001b[0;32mreturn\u001b[0m \u001b[0mself\u001b[0m\u001b[0;34m.\u001b[0m\u001b[0m_as_graph_element_locked\u001b[0m\u001b[0;34m(\u001b[0m\u001b[0mobj\u001b[0m\u001b[0;34m,\u001b[0m \u001b[0mallow_tensor\u001b[0m\u001b[0;34m,\u001b[0m \u001b[0mallow_operation\u001b[0m\u001b[0;34m)\u001b[0m\u001b[0;34m\u001b[0m\u001b[0m\n\u001b[0m\u001b[1;32m   3479\u001b[0m \u001b[0;34m\u001b[0m\u001b[0m\n",
      "\u001b[0;32m/home/animo/anaconda3/lib/python3.5/site-packages/tensorflow/python/framework/ops.py\u001b[0m in \u001b[0;36m_as_graph_element_locked\u001b[0;34m(self, obj, allow_tensor, allow_operation)\u001b[0m\n\u001b[1;32m   3556\u001b[0m       \u001b[0;32mif\u001b[0m \u001b[0mobj\u001b[0m\u001b[0;34m.\u001b[0m\u001b[0mgraph\u001b[0m \u001b[0;32mis\u001b[0m \u001b[0;32mnot\u001b[0m \u001b[0mself\u001b[0m\u001b[0;34m:\u001b[0m\u001b[0;34m\u001b[0m\u001b[0m\n\u001b[0;32m-> 3557\u001b[0;31m         \u001b[0;32mraise\u001b[0m \u001b[0mValueError\u001b[0m\u001b[0;34m(\u001b[0m\u001b[0;34m\"Tensor %s is not an element of this graph.\"\u001b[0m \u001b[0;34m%\u001b[0m \u001b[0mobj\u001b[0m\u001b[0;34m)\u001b[0m\u001b[0;34m\u001b[0m\u001b[0m\n\u001b[0m\u001b[1;32m   3558\u001b[0m       \u001b[0;32mreturn\u001b[0m \u001b[0mobj\u001b[0m\u001b[0;34m\u001b[0m\u001b[0m\n",
      "\u001b[0;31mValueError\u001b[0m: Tensor Tensor(\"Add:0\", shape=(), dtype=int32) is not an element of this graph.",
      "\nDuring handling of the above exception, another exception occurred:\n",
      "\u001b[0;31mValueError\u001b[0m                                Traceback (most recent call last)",
      "\u001b[0;32m<ipython-input-11-327d8b449474>\u001b[0m in \u001b[0;36m<module>\u001b[0;34m()\u001b[0m\n\u001b[1;32m      6\u001b[0m \u001b[0msess\u001b[0m \u001b[0;34m=\u001b[0m \u001b[0mtf\u001b[0m\u001b[0;34m.\u001b[0m\u001b[0mSession\u001b[0m\u001b[0;34m(\u001b[0m\u001b[0mgraph\u001b[0m \u001b[0;34m=\u001b[0m \u001b[0mg\u001b[0m\u001b[0;34m)\u001b[0m\u001b[0;34m\u001b[0m\u001b[0m\n\u001b[1;32m      7\u001b[0m \u001b[0;32mwith\u001b[0m \u001b[0mtf\u001b[0m\u001b[0;34m.\u001b[0m\u001b[0mSession\u001b[0m\u001b[0;34m(\u001b[0m\u001b[0;34m)\u001b[0m \u001b[0;32mas\u001b[0m \u001b[0msess\u001b[0m\u001b[0;34m:\u001b[0m\u001b[0;34m\u001b[0m\u001b[0m\n\u001b[0;32m----> 8\u001b[0;31m     \u001b[0msess\u001b[0m\u001b[0;34m.\u001b[0m\u001b[0mrun\u001b[0m\u001b[0;34m(\u001b[0m\u001b[0mx\u001b[0m\u001b[0;34m)\u001b[0m\u001b[0;34m\u001b[0m\u001b[0m\n\u001b[0m",
      "\u001b[0;32m/home/animo/anaconda3/lib/python3.5/site-packages/tensorflow/python/client/session.py\u001b[0m in \u001b[0;36mrun\u001b[0;34m(self, fetches, feed_dict, options, run_metadata)\u001b[0m\n\u001b[1;32m    903\u001b[0m     \u001b[0;32mtry\u001b[0m\u001b[0;34m:\u001b[0m\u001b[0;34m\u001b[0m\u001b[0m\n\u001b[1;32m    904\u001b[0m       result = self._run(None, fetches, feed_dict, options_ptr,\n\u001b[0;32m--> 905\u001b[0;31m                          run_metadata_ptr)\n\u001b[0m\u001b[1;32m    906\u001b[0m       \u001b[0;32mif\u001b[0m \u001b[0mrun_metadata\u001b[0m\u001b[0;34m:\u001b[0m\u001b[0;34m\u001b[0m\u001b[0m\n\u001b[1;32m    907\u001b[0m         \u001b[0mproto_data\u001b[0m \u001b[0;34m=\u001b[0m \u001b[0mtf_session\u001b[0m\u001b[0;34m.\u001b[0m\u001b[0mTF_GetBuffer\u001b[0m\u001b[0;34m(\u001b[0m\u001b[0mrun_metadata_ptr\u001b[0m\u001b[0;34m)\u001b[0m\u001b[0;34m\u001b[0m\u001b[0m\n",
      "\u001b[0;32m/home/animo/anaconda3/lib/python3.5/site-packages/tensorflow/python/client/session.py\u001b[0m in \u001b[0;36m_run\u001b[0;34m(self, handle, fetches, feed_dict, options, run_metadata)\u001b[0m\n\u001b[1;32m   1123\u001b[0m     \u001b[0;31m# Create a fetch handler to take care of the structure of fetches.\u001b[0m\u001b[0;34m\u001b[0m\u001b[0;34m\u001b[0m\u001b[0m\n\u001b[1;32m   1124\u001b[0m     fetch_handler = _FetchHandler(\n\u001b[0;32m-> 1125\u001b[0;31m         self._graph, fetches, feed_dict_tensor, feed_handles=feed_handles)\n\u001b[0m\u001b[1;32m   1126\u001b[0m \u001b[0;34m\u001b[0m\u001b[0m\n\u001b[1;32m   1127\u001b[0m     \u001b[0;31m# Run request and get response.\u001b[0m\u001b[0;34m\u001b[0m\u001b[0;34m\u001b[0m\u001b[0m\n",
      "\u001b[0;32m/home/animo/anaconda3/lib/python3.5/site-packages/tensorflow/python/client/session.py\u001b[0m in \u001b[0;36m__init__\u001b[0;34m(self, graph, fetches, feeds, feed_handles)\u001b[0m\n\u001b[1;32m    425\u001b[0m     \"\"\"\n\u001b[1;32m    426\u001b[0m     \u001b[0;32mwith\u001b[0m \u001b[0mgraph\u001b[0m\u001b[0;34m.\u001b[0m\u001b[0mas_default\u001b[0m\u001b[0;34m(\u001b[0m\u001b[0;34m)\u001b[0m\u001b[0;34m:\u001b[0m\u001b[0;34m\u001b[0m\u001b[0m\n\u001b[0;32m--> 427\u001b[0;31m       \u001b[0mself\u001b[0m\u001b[0;34m.\u001b[0m\u001b[0m_fetch_mapper\u001b[0m \u001b[0;34m=\u001b[0m \u001b[0m_FetchMapper\u001b[0m\u001b[0;34m.\u001b[0m\u001b[0mfor_fetch\u001b[0m\u001b[0;34m(\u001b[0m\u001b[0mfetches\u001b[0m\u001b[0;34m)\u001b[0m\u001b[0;34m\u001b[0m\u001b[0m\n\u001b[0m\u001b[1;32m    428\u001b[0m     \u001b[0mself\u001b[0m\u001b[0;34m.\u001b[0m\u001b[0m_fetches\u001b[0m \u001b[0;34m=\u001b[0m \u001b[0;34m[\u001b[0m\u001b[0;34m]\u001b[0m\u001b[0;34m\u001b[0m\u001b[0m\n\u001b[1;32m    429\u001b[0m     \u001b[0mself\u001b[0m\u001b[0;34m.\u001b[0m\u001b[0m_targets\u001b[0m \u001b[0;34m=\u001b[0m \u001b[0;34m[\u001b[0m\u001b[0;34m]\u001b[0m\u001b[0;34m\u001b[0m\u001b[0m\n",
      "\u001b[0;32m/home/animo/anaconda3/lib/python3.5/site-packages/tensorflow/python/client/session.py\u001b[0m in \u001b[0;36mfor_fetch\u001b[0;34m(fetch)\u001b[0m\n\u001b[1;32m    251\u001b[0m         \u001b[0;32mif\u001b[0m \u001b[0misinstance\u001b[0m\u001b[0;34m(\u001b[0m\u001b[0mfetch\u001b[0m\u001b[0;34m,\u001b[0m \u001b[0mtensor_type\u001b[0m\u001b[0;34m)\u001b[0m\u001b[0;34m:\u001b[0m\u001b[0;34m\u001b[0m\u001b[0m\n\u001b[1;32m    252\u001b[0m           \u001b[0mfetches\u001b[0m\u001b[0;34m,\u001b[0m \u001b[0mcontraction_fn\u001b[0m \u001b[0;34m=\u001b[0m \u001b[0mfetch_fn\u001b[0m\u001b[0;34m(\u001b[0m\u001b[0mfetch\u001b[0m\u001b[0;34m)\u001b[0m\u001b[0;34m\u001b[0m\u001b[0m\n\u001b[0;32m--> 253\u001b[0;31m           \u001b[0;32mreturn\u001b[0m \u001b[0m_ElementFetchMapper\u001b[0m\u001b[0;34m(\u001b[0m\u001b[0mfetches\u001b[0m\u001b[0;34m,\u001b[0m \u001b[0mcontraction_fn\u001b[0m\u001b[0;34m)\u001b[0m\u001b[0;34m\u001b[0m\u001b[0m\n\u001b[0m\u001b[1;32m    254\u001b[0m     \u001b[0;31m# Did not find anything.\u001b[0m\u001b[0;34m\u001b[0m\u001b[0;34m\u001b[0m\u001b[0m\n\u001b[1;32m    255\u001b[0m     raise TypeError('Fetch argument %r has invalid type %r' % (fetch,\n",
      "\u001b[0;32m/home/animo/anaconda3/lib/python3.5/site-packages/tensorflow/python/client/session.py\u001b[0m in \u001b[0;36m__init__\u001b[0;34m(self, fetches, contraction_fn)\u001b[0m\n\u001b[1;32m    287\u001b[0m       \u001b[0;32mexcept\u001b[0m \u001b[0mValueError\u001b[0m \u001b[0;32mas\u001b[0m \u001b[0me\u001b[0m\u001b[0;34m:\u001b[0m\u001b[0;34m\u001b[0m\u001b[0m\n\u001b[1;32m    288\u001b[0m         raise ValueError('Fetch argument %r cannot be interpreted as a '\n\u001b[0;32m--> 289\u001b[0;31m                          'Tensor. (%s)' % (fetch, str(e)))\n\u001b[0m\u001b[1;32m    290\u001b[0m       \u001b[0;32mexcept\u001b[0m \u001b[0mKeyError\u001b[0m \u001b[0;32mas\u001b[0m \u001b[0me\u001b[0m\u001b[0;34m:\u001b[0m\u001b[0;34m\u001b[0m\u001b[0m\n\u001b[1;32m    291\u001b[0m         raise ValueError('Fetch argument %r cannot be interpreted as a '\n",
      "\u001b[0;31mValueError\u001b[0m: Fetch argument <tf.Tensor 'Add:0' shape=() dtype=int32> cannot be interpreted as a Tensor. (Tensor Tensor(\"Add:0\", shape=(), dtype=int32) is not an element of this graph.)"
     ]
    }
   ],
   "source": [
    "#Create a graph and add computations to it\n",
    "\n",
    "g = tf.Graph()\n",
    "with g.as_default():\n",
    "    x = tf.add(3,5)\n",
    "sess = tf.Session(graph = g)\n",
    "with tf.Session() as sess:\n",
    "    sess.run(x)"
   ]
  },
  {
   "cell_type": "code",
   "execution_count": 13,
   "metadata": {},
   "outputs": [
    {
     "name": "stdout",
     "output_type": "stream",
     "text": [
      "5\n"
     ]
    }
   ],
   "source": [
    "#Visualizing the graph with tensor board\n",
    "import tensorflow as tf\n",
    "\n",
    "a = tf.constant(2, name = \"AAA\")\n",
    "b = tf.constant(3, name = \"BBB\")\n",
    "x = tf.add(a,b, name = \"ADDITION\")\n",
    "\n",
    "writer = tf.summary.FileWriter('./graphs',tf.get_default_graph())\n",
    "with tf.Session() as sess:\n",
    "    #writer = tf.summary.FileWriter('./graphs', sess.graph)\n",
    "    print(sess.run(x))\n",
    "writer.close() \n",
    "#Note that the graph contains previously defined variables as well."
   ]
  },
  {
   "cell_type": "markdown",
   "metadata": {},
   "source": [
    "To launch tensorboard do the following:\n",
    "1. Launch a new python terminal\n",
    "2. Type : source activate tensorflow . This activates a tensornflow python environemnt\n",
    "3. type tensorboard --logdir=/home/animo/projects/py_projects/tf/graphs  \n",
    "\n",
    "note:\n",
    "1. get the directory right, else it doesnt find the tensor graphs.\n",
    "2. after running command #3; ctrl+click on the localhost link it generates"
   ]
  },
  {
   "cell_type": "code",
   "execution_count": 14,
   "metadata": {},
   "outputs": [],
   "source": [
    "import tensorflow as tf\n",
    "a = tf.constant(2)\n",
    "b = tf.constant(3)\n",
    "x = tf.add(a,b)\n",
    "writer = tf.summary.FileWriter('./graphs',tf.get_default_graph())\n",
    "writer.close()"
   ]
  },
  {
   "cell_type": "markdown",
   "metadata": {},
   "source": [
    "### Tensor Constants"
   ]
  },
  {
   "cell_type": "code",
   "execution_count": 15,
   "metadata": {},
   "outputs": [
    {
     "name": "stdout",
     "output_type": "stream",
     "text": [
      "[[0 2]\n",
      " [4 6]]\n"
     ]
    }
   ],
   "source": [
    "#signature of constant\n",
    "\n",
    "#tf.constant(value, dtype = None, shape = None, name = 'Const', verify_shape = False)\n",
    "\n",
    "a = tf.constant([2,2], name = \"a\")\n",
    "b = tf.constant([[0,1],[2,3]], name = 'b')\n",
    "x = tf.multiply(a,b, name = \"mul\")\n",
    "with tf.Session() as sess:\n",
    "    print(sess.run(x))"
   ]
  },
  {
   "cell_type": "code",
   "execution_count": 16,
   "metadata": {},
   "outputs": [
    {
     "name": "stdout",
     "output_type": "stream",
     "text": [
      "[[5 5]\n",
      " [5 5]]\n"
     ]
    }
   ],
   "source": [
    "# Verify shape: Provide value and shape; if the value does not match the shape provided:- it will throw false\n",
    "\n",
    "a = tf.constant([[0,1],[2,3]], shape = [2,2],verify_shape = True)  # Throws an error if shape does not match\n",
    "b = tf.constant(5,shape = [2,2]) #verify_shape by default = False; hence no error\n",
    "\n",
    "with tf.Session() as sess:\n",
    "    print(sess.run(b))\n",
    "\n",
    "#With verify_shape = False, it just duplicated to match the shape of 3x3"
   ]
  },
  {
   "cell_type": "code",
   "execution_count": 17,
   "metadata": {},
   "outputs": [
    {
     "name": "stdout",
     "output_type": "stream",
     "text": [
      "[[2 3]\n",
      " [4 5]] \n",
      "\n",
      " [[0 2]\n",
      " [4 6]]\n"
     ]
    }
   ],
   "source": [
    "# More Constants\n",
    "\n",
    "a = tf.constant([2,2], name = \"a\")\n",
    "b = tf.constant([[0,1],[2,3]], name = \"b\")\n",
    "x = tf.add(a,b, name = \"add\")\n",
    "y = tf.multiply(a,b, name  = \"mul\") # Elementwise multipcation\n",
    "with tf.Session() as sess:\n",
    "    x, y = sess.run([x,y])\n",
    "    print(x,\"\\n\\n\", y)"
   ]
  },
  {
   "cell_type": "markdown",
   "metadata": {},
   "source": [
    "## Tensor of Zeros"
   ]
  },
  {
   "cell_type": "code",
   "execution_count": 18,
   "metadata": {},
   "outputs": [
    {
     "name": "stdout",
     "output_type": "stream",
     "text": [
      "[[0 0 0]\n",
      " [0 0 0]]\n"
     ]
    }
   ],
   "source": [
    "#tf.zeros(shape, dtype = tf.float32, name = None)\n",
    "k = tf.zeros([2,3], tf.int32)\n",
    "with tf.Session() as sess:\n",
    "    print(sess.run(k))"
   ]
  },
  {
   "cell_type": "markdown",
   "metadata": {},
   "source": [
    "## Tensors of zeros, in specific shape of an input vector"
   ]
  },
  {
   "cell_type": "code",
   "execution_count": 19,
   "metadata": {},
   "outputs": [
    {
     "name": "stdout",
     "output_type": "stream",
     "text": [
      "[[0 0]\n",
      " [0 0]\n",
      " [0 0]]\n"
     ]
    }
   ],
   "source": [
    "input_tensor = [[0,1],[2,3],[4,5]]\n",
    "k = tf.zeros_like(input_tensor)\n",
    "with tf.Session() as sess:\n",
    "    print(sess.run(k))"
   ]
  },
  {
   "cell_type": "markdown",
   "metadata": {},
   "source": [
    "## Tensor of ones"
   ]
  },
  {
   "cell_type": "code",
   "execution_count": 20,
   "metadata": {},
   "outputs": [
    {
     "name": "stdout",
     "output_type": "stream",
     "text": [
      "[[1 1 1]\n",
      " [1 1 1]]\n"
     ]
    }
   ],
   "source": [
    "#tf.ones(shape, dtype = tf.float32, name = None, optmize = True)\n",
    "k = tf.ones([2,3], tf.int32)\n",
    "with tf.Session() as sess:\n",
    "    print(sess.run(k))"
   ]
  },
  {
   "cell_type": "code",
   "execution_count": 21,
   "metadata": {},
   "outputs": [
    {
     "name": "stdout",
     "output_type": "stream",
     "text": [
      "[[1 1 1 1 1]\n",
      " [1 1 1 1 1]\n",
      " [1 1 1 1 1]\n",
      " [1 1 1 1 1]\n",
      " [1 1 1 1 1]]\n"
     ]
    }
   ],
   "source": [
    "input_tensor = tf.zeros([5,5], tf.int32)\n",
    "output_tensor = tf.ones_like(input_tensor) # Tensor has a shape of another tensor.\n",
    "with tf.Session() as sess:\n",
    "    print(sess.run(output_tensor))"
   ]
  },
  {
   "cell_type": "markdown",
   "metadata": {},
   "source": [
    "## Tensor filled with specific vaue"
   ]
  },
  {
   "cell_type": "code",
   "execution_count": 22,
   "metadata": {},
   "outputs": [
    {
     "name": "stdout",
     "output_type": "stream",
     "text": [
      "[[8 8 8]\n",
      " [8 8 8]]\n"
     ]
    }
   ],
   "source": [
    "#tf.fill(dims, value, name = None)\n",
    "u = tf.fill([2,3],8)\n",
    "with tf.Session() as sess:\n",
    "    print(sess.run(u))"
   ]
  },
  {
   "cell_type": "markdown",
   "metadata": {},
   "source": [
    "## Sequences and ranges support in tensorflow"
   ]
  },
  {
   "cell_type": "code",
   "execution_count": 23,
   "metadata": {},
   "outputs": [
    {
     "name": "stdout",
     "output_type": "stream",
     "text": [
      "[10.       13.333333 16.666666 20.      ]\n"
     ]
    }
   ],
   "source": [
    "#tf.linspace(start, stop , num, name = None)\n",
    "\n",
    "#u = tf.linspace(10,20.0,2) # Having integer values throws error\n",
    "v = tf.linspace(10.0,20.0,4)\n",
    "with tf.Session() as sess:\n",
    "    #print(sess.run(u))\n",
    "    print(sess.run(v))"
   ]
  },
  {
   "cell_type": "code",
   "execution_count": 24,
   "metadata": {},
   "outputs": [
    {
     "name": "stdout",
     "output_type": "stream",
     "text": [
      "[10.       13.333333 16.666666 20.      ]\n"
     ]
    }
   ],
   "source": [
    "# both linspace and lin_space work !\n",
    "#tf.lin_space(start, stop , num, name = None)\n",
    "\n",
    "v = tf.lin_space(10.0,20.0,4)\n",
    "with tf.Session() as sess:\n",
    "    #print(sess.run(u))\n",
    "    print(sess.run(v))"
   ]
  },
  {
   "cell_type": "markdown",
   "metadata": {},
   "source": [
    "### Range: similar to lin space"
   ]
  },
  {
   "cell_type": "code",
   "execution_count": 25,
   "metadata": {
    "collapsed": true
   },
   "outputs": [],
   "source": [
    "#tf.range(start, limit = None, delta = 1, dtype = None, name = None)"
   ]
  },
  {
   "cell_type": "code",
   "execution_count": 26,
   "metadata": {},
   "outputs": [
    {
     "name": "stdout",
     "output_type": "stream",
     "text": [
      "[0 3 6 9]\n",
      "[ 0.  1.  2.  3.  4.  5.  6.  7.  8.  9. 10. 11.]\n"
     ]
    }
   ],
   "source": [
    "u = tf.range(0,12,3)\n",
    "v = tf.range(0,12, dtype = \"float32\")\n",
    "with tf.Session() as sess:\n",
    "    print(sess.run(u))\n",
    "    print(sess.run(v))"
   ]
  },
  {
   "cell_type": "code",
   "execution_count": null,
   "metadata": {
    "collapsed": true
   },
   "outputs": [],
   "source": []
  },
  {
   "cell_type": "markdown",
   "metadata": {},
   "source": [
    "Tensor objects are not iterable. Hence the following code will be in error\n",
    "for i in tf.range(4): will throw an error"
   ]
  },
  {
   "cell_type": "code",
   "execution_count": 27,
   "metadata": {},
   "outputs": [
    {
     "name": "stdout",
     "output_type": "stream",
     "text": [
      "[0 2 4 6]\n"
     ]
    }
   ],
   "source": [
    "u = tf.range(0,12,3)\n",
    "u = np.arange(4) # commenting this will throw an error as u in tf.range is not iterable\n",
    "k = tf.constant(u*2)\n",
    "\n",
    "with tf.Session() as sess:\n",
    "    print(sess.run(k))"
   ]
  },
  {
   "cell_type": "markdown",
   "metadata": {},
   "source": [
    "### Randomly Generated Constants"
   ]
  },
  {
   "cell_type": "code",
   "execution_count": 28,
   "metadata": {},
   "outputs": [
    {
     "name": "stdout",
     "output_type": "stream",
     "text": [
      "[[ 0.54177606  1.5844038  -2.0179288   0.09738325 -0.6062167   0.48555997\n",
      "  -1.2997484  -0.12043292 -0.05926561 -0.21120031]]\n"
     ]
    }
   ],
   "source": [
    "#Normal distribution\n",
    "a = tf.random_normal([1,10], mean = 0, stddev = 1)\n",
    "with tf.Session() as sess:\n",
    "    print(sess.run(a))"
   ]
  },
  {
   "cell_type": "code",
   "execution_count": 29,
   "metadata": {},
   "outputs": [
    {
     "name": "stdout",
     "output_type": "stream",
     "text": [
      "[[ 0.43054783 -0.8207443  -0.848327    1.461384    0.16109002 -0.57714725\n",
      "  -1.5205578   0.5007197  -0.91525126  1.8585218 ]]\n"
     ]
    }
   ],
   "source": [
    "# If the numbers generated are 2SD away from mean, that point will be resampled; hence technically all points sampled are\n",
    "# within 2SD of mean.\n",
    "a = tf.truncated_normal([1,10], mean = 0, stddev = 1)\n",
    "with tf.Session() as sess:\n",
    "    print(sess.run(a))"
   ]
  },
  {
   "cell_type": "code",
   "execution_count": 30,
   "metadata": {},
   "outputs": [
    {
     "name": "stdout",
     "output_type": "stream",
     "text": [
      "[[0.7109517  0.6677362  0.05672455 0.65347874 0.42180097 0.32127988\n",
      "  0.02304196 0.9666219  0.47687066 0.66061723]]\n"
     ]
    }
   ],
   "source": [
    "# Generate data from Uniform distribution.\n",
    "a = tf.random_uniform([1,10], minval = 0, maxval = 1, dtype = tf.float32, seed = None, name = None)\n",
    "with tf.Session() as sess:\n",
    "    print(sess.run(a))"
   ]
  },
  {
   "cell_type": "code",
   "execution_count": 31,
   "metadata": {},
   "outputs": [
    {
     "name": "stdout",
     "output_type": "stream",
     "text": [
      "[[3 4]\n",
      " [5 6]\n",
      " [1 2]]\n"
     ]
    }
   ],
   "source": [
    "# Order of the rows of the elements are changed.\n",
    "a = tf.random_shuffle([[1,2],[3,4],[5,6]], seed = None, name = None)\n",
    "with tf.Session() as sess:\n",
    "    print(sess.run(a))"
   ]
  },
  {
   "cell_type": "code",
   "execution_count": 32,
   "metadata": {},
   "outputs": [
    {
     "name": "stdout",
     "output_type": "stream",
     "text": [
      "[[[ 1  2]\n",
      "  [ 3  4]\n",
      "  [ 5  6]]\n",
      "\n",
      " [[11 22]\n",
      "  [33 44]\n",
      "  [55 66]]]\n"
     ]
    }
   ],
   "source": [
    "# In this case, the row order is preserved but the 'depth' order can be changed. Called shuffling on 1st dimension\n",
    "a = tf.random_shuffle([[[1,2],[3,4],[5,6]],[[11,22],[33,44],[55,66]]], seed = None, name = None)\n",
    "with tf.Session() as sess:\n",
    "    print(sess.run(a))"
   ]
  },
  {
   "cell_type": "code",
   "execution_count": 33,
   "metadata": {},
   "outputs": [
    {
     "name": "stdout",
     "output_type": "stream",
     "text": [
      "[[ 2  3]\n",
      " [22 33]]\n"
     ]
    }
   ],
   "source": [
    "#tf.random_crop\n",
    "#size = height and width of the cropping; here we say 2 height and 3 width\n",
    "a = tf.random_crop([[1,2,3,4,5,6,7],[11,22,33,44,55,66,77],[111,222,333,444,555,666,777]], size = [2,2])\n",
    "with tf.Session() as sess:\n",
    "    print(sess.run(a))"
   ]
  },
  {
   "cell_type": "code",
   "execution_count": 34,
   "metadata": {},
   "outputs": [
    {
     "name": "stdout",
     "output_type": "stream",
     "text": [
      "[[ 1.05521416 -1.18448811  0.43350414  0.43117322]\n",
      " [-0.54234964 -1.55083294  0.23625308  0.3638158 ]\n",
      " [ 1.14821245  0.97391881 -0.12700748  1.8360801 ]] \n",
      "\n",
      "[[3 0 0 0 1]\n",
      " [2 0 0 3 3]\n",
      " [0 0 3 0 3]]\n",
      "\n",
      "One more try\n",
      "\n",
      "[[ 1.05521416 -1.18448811  0.43350414  0.43117322]\n",
      " [-0.54234964 -1.55083294  0.23625308  0.3638158 ]\n",
      " [ 1.14821245  0.97391881 -0.12700748  1.8360801 ]] \n",
      "\n",
      "[[1 2 3 0 3 0 0 0 0 1]\n",
      " [1 3 2 3 0 3 0 3 3 2]\n",
      " [0 0 3 0 3 3 3 1 0 0]]\n"
     ]
    }
   ],
   "source": [
    "# tf.multinomial\n",
    "import numpy as np\n",
    "b = tf.constant(np.random.normal(size = (3,4)))\n",
    "# we take b as the log of probability value\n",
    "\n",
    "a = tf.multinomial(b,5) # we take sample value\n",
    "with tf.Session() as sess:\n",
    "    print(sess.run(b),\"\\n\")\n",
    "    print(sess.run(a))\n",
    "        # The output is 3x4\n",
    "        # Each row of b contains log probability of the 4 classes.\n",
    "        # Each element in row of 'a' is then selecting and element from 0-3 classes based on log probability\n",
    "print(\"\\nOne more try\\n\")\n",
    "a = tf.multinomial(b,10) # we take sample value\n",
    "with tf.Session() as sess:\n",
    "    print(sess.run(b), \"\\n\")\n",
    "    print(sess.run(a))"
   ]
  },
  {
   "cell_type": "code",
   "execution_count": 35,
   "metadata": {
    "collapsed": true
   },
   "outputs": [],
   "source": [
    "# tf.random_gamma : Look up gamma distribution."
   ]
  },
  {
   "cell_type": "code",
   "execution_count": 36,
   "metadata": {},
   "outputs": [],
   "source": [
    "# setting random seed for the entire graph\n",
    "tf.set_random_seed(5)"
   ]
  },
  {
   "cell_type": "markdown",
   "metadata": {},
   "source": [
    "More Operations\n",
    "1. Element wise: Add, Sub, Multiply, Div, Exp, Log, Greater, Less, equal ..\n",
    "2. Array Operation: Concat, Slice, split, Constant, Rank, Shape, Shuffle\n",
    "3. Matrix: MatMul, MatrixInverse, MatrixDeterminant\n",
    "\n",
    "3. Stateful Operations: Variable, Assign, AssignAdd \n",
    "4. Neural N/w: SoftMax, Sigmoid, ReLU, Convolution2D, MaxPool\n",
    "5. Checkpointing operations: Save, Restore\n",
    "6. Queue and Sync operations: Enqueue, Dequeue, MutexAcquire, MutexRelease\n",
    "7. Control flow operations: Merge, Switch, Enter, Leave, NextIteration\n",
    "\n"
   ]
  },
  {
   "cell_type": "markdown",
   "metadata": {},
   "source": [
    "Arithmetic operations\n",
    "1. tf.abs\n",
    "2. tf.negative\n",
    "3. tf.reciprocal\n",
    "4. tf.square\n",
    "5. tf.round\n",
    "6. tf.sqrt\n",
    "7. tf.pow\n",
    "8. tf.exp"
   ]
  },
  {
   "cell_type": "code",
   "execution_count": 37,
   "metadata": {},
   "outputs": [
    {
     "name": "stdout",
     "output_type": "stream",
     "text": [
      "[5 8]\n",
      "[ 7 10]\n",
      "[ 6 12]\n",
      "[[18]]\n",
      "[1 3]\n",
      "[1 0]\n"
     ]
    }
   ],
   "source": [
    "#Operations\n",
    "a = tf.constant([3,6])\n",
    "b = tf.constant([2,2])\n",
    "u = tf.add(a,b)\n",
    "v = tf.add_n([a,b,b])\n",
    "w= tf.multiply(a,b)\n",
    "#tf.matmul(a,b) Error\n",
    "x = tf.matmul(tf.reshape(a,[1,2]), tf.reshape(b,[2,1]))\n",
    "y = tf.div(a,b)\n",
    "z = tf.mod(a,b)\n",
    "\n",
    "with tf.Session() as sess:\n",
    "    print(sess.run(u))\n",
    "    print(sess.run(v))\n",
    "    print(sess.run(w))\n",
    "    print(sess.run(x))\n",
    "    print(sess.run(y))\n",
    "    print(sess.run(z))"
   ]
  },
  {
   "cell_type": "code",
   "execution_count": 4,
   "metadata": {},
   "outputs": [
    {
     "name": "stdout",
     "output_type": "stream",
     "text": [
      "tf.div:\n",
      "  [[0 0]\n",
      " [1 1]] \n",
      "\n",
      "tf.divide:\n",
      "  [[0.  0.5]\n",
      " [1.  1.5]] \n",
      "\n",
      "tf.truediv:\n",
      "  [[0.  0.5]\n",
      " [1.  1.5]] \n",
      "\n",
      "tf.floordiv:\n",
      "  [[0 0]\n",
      " [1 1]] \n",
      "\n",
      "tf.truncatediv:\n",
      "  [[0 0]\n",
      " [1 1]] \n",
      "\n",
      "tf.floor_div:\n",
      "  [[0 0]\n",
      " [1 1]] \n",
      "\n"
     ]
    }
   ],
   "source": [
    "# Division !\n",
    "\n",
    "a = tf.constant([2,2], name = \"a\")\n",
    "b = tf.constant([[0,1],[2,3]], name = \"b\")\n",
    "with tf.Session() as sess:\n",
    "    print(\"tf.div:\\n \", sess.run(tf.div(b,a)),\"\\n\")\n",
    "    print(\"tf.divide:\\n \", sess.run(tf.divide(b,a)),\"\\n\")\n",
    "    print(\"tf.truediv:\\n \", sess.run(tf.truediv(b,a)),\"\\n\")\n",
    "    print(\"tf.floordiv:\\n \", sess.run(tf.floordiv(b,a)),\"\\n\")\n",
    "    #print(\"tf.realdiv:\\n \", sess.run(tf.realdiv(b,a)),\"\\n\")  #creates error and they screws up something in system; If I run this cell again, it gives error\n",
    "    print(\"tf.truncatediv:\\n \", sess.run(tf.truncatediv(b,a)),\"\\n\")\n",
    "    print(\"tf.floor_div:\\n \", sess.run(tf.floor_div(b,a)),\"\\n\")"
   ]
  },
  {
   "cell_type": "code",
   "execution_count": 5,
   "metadata": {},
   "outputs": [
    {
     "name": "stdout",
     "output_type": "stream",
     "text": [
      "1\n"
     ]
    }
   ],
   "source": [
    "import tensorflow as tf\n",
    "d = tf.constant(4, name = \"d\")\n",
    "e = tf.constant(6, name = \"e\")\n",
    "with tf.Session() as sess:\n",
    "    print(sess.run(tf.div(e,d)))"
   ]
  },
  {
   "cell_type": "markdown",
   "metadata": {},
   "source": [
    "### Tensorflow DataTypes"
   ]
  },
  {
   "cell_type": "markdown",
   "metadata": {},
   "source": [
    "TensorFlow takes Python native types: boolean, numeric(int, float), string"
   ]
  },
  {
   "cell_type": "markdown",
   "metadata": {},
   "source": [
    "- Single value will be converted to 0-d tensors(or scalars)\n",
    "- List of values will be converted to 1-d tensors - vectors\n",
    "- lists of lists will be converted to 2-d tensors - matrices"
   ]
  },
  {
   "cell_type": "code",
   "execution_count": 80,
   "metadata": {},
   "outputs": [
    {
     "name": "stdout",
     "output_type": "stream",
     "text": [
      "0\n",
      "1\n"
     ]
    }
   ],
   "source": [
    "t_0 = 19\n",
    "u = tf.zeros_like(t_0)\n",
    "v = tf.ones_like(t_0)\n",
    "\n",
    "with tf.Session() as sess:\n",
    "    print(sess.run(u))\n",
    "    print(sess.run(v))"
   ]
  },
  {
   "cell_type": "code",
   "execution_count": 7,
   "metadata": {},
   "outputs": [
    {
     "name": "stdout",
     "output_type": "stream",
     "text": [
      "[b'' b'' b'']\n"
     ]
    }
   ],
   "source": [
    "t_1 = ['apple','peach','banana']\n",
    "u = tf.zeros_like(t_1)\n",
    "#v = tf.ones_like(t_1) #throws an error because not clear what concent on ones is for a string\n",
    "\n",
    "with tf.Session() as sess:\n",
    "    print(sess.run(u))\n",
    "\n"
   ]
  },
  {
   "cell_type": "code",
   "execution_count": 8,
   "metadata": {},
   "outputs": [
    {
     "name": "stdout",
     "output_type": "stream",
     "text": [
      "[[False False False]\n",
      " [False False False]\n",
      " [False False False]]\n",
      "[[ True  True  True]\n",
      " [ True  True  True]\n",
      " [ True  True  True]]\n"
     ]
    }
   ],
   "source": [
    "t_2 = [[True,False,False],[False,False,True],[False,True,False]]\n",
    "u = tf.zeros_like(t_2)\n",
    "v = tf.ones_like(t_2)\n",
    "\n",
    "with tf.Session() as sess:\n",
    "    print(sess.run(u))\n",
    "    print(sess.run(v))"
   ]
  },
  {
   "cell_type": "markdown",
   "metadata": {},
   "source": [
    "### Tensorflow datatypes"
   ]
  },
  {
   "cell_type": "markdown",
   "metadata": {},
   "source": [
    "- tf.float16,32,64\n",
    "- tf.bfloat16 - 16bit truncated floating ponit\n",
    "- tf.complex64,128\n",
    "- tf.int8,16,32,64\n",
    "- tf.uint8,16,16\n",
    "- tf.bool\n",
    "- tf.string\n",
    "- tf.qint8,16,32 - quantized int\n",
    "- tf.quint8,16 - quantized unsigned int\n",
    "- tf.resource - handle to a mutable resource"
   ]
  },
  {
   "cell_type": "markdown",
   "metadata": {},
   "source": [
    "### TensorFlow and Numpy Data Type"
   ]
  },
  {
   "cell_type": "markdown",
   "metadata": {},
   "source": [
    "Tensorflow integrates seamlessly with Numpy"
   ]
  },
  {
   "cell_type": "code",
   "execution_count": 10,
   "metadata": {},
   "outputs": [
    {
     "name": "stdout",
     "output_type": "stream",
     "text": [
      "TF and NumPy Data type equivalence: True\n"
     ]
    }
   ],
   "source": [
    "print(\"TF and NumPy Data type equivalence:\", tf.int32 == np.int32)"
   ]
  },
  {
   "cell_type": "code",
   "execution_count": 11,
   "metadata": {},
   "outputs": [
    {
     "data": {
      "text/plain": [
       "<tf.Tensor 'ones:0' shape=(2, 2) dtype=float32>"
      ]
     },
     "execution_count": 11,
     "metadata": {},
     "output_type": "execute_result"
    }
   ],
   "source": [
    "tf.ones([2,2], np.float32)"
   ]
  },
  {
   "cell_type": "markdown",
   "metadata": {},
   "source": [
    "For tf.Sessio.run(fetches): if the the requested fetch is a Tensor, output will be a Numpy ndarray"
   ]
  },
  {
   "cell_type": "code",
   "execution_count": 12,
   "metadata": {},
   "outputs": [
    {
     "name": "stdout",
     "output_type": "stream",
     "text": [
      "<class 'tensorflow.python.framework.ops.Tensor'>\n",
      "<class 'numpy.ndarray'>\n"
     ]
    }
   ],
   "source": [
    "sess = tf.Session()\n",
    "a = tf.zeros([2,3], np.int32)\n",
    "print(type(a))\n",
    "a = sess.run(a)  # In general,avoid rewriting like this, e.g use a_out = sess.run(a)\n",
    "print(type(a))"
   ]
  },
  {
   "cell_type": "markdown",
   "metadata": {},
   "source": [
    "Use TF DataType when possisble, TF has to infer numpy datatypes:\n",
    "\n",
    "Using Python types to specify TensorFlow objects is quick and easy, and it is useful for prototyping ideas. However, there is an important pitfall in doing it this way. Python types lack the ability to explicitly state the data type, but TensorFlow’s data types are more specific. For example, all integers are the same type, but TensorFlow has 8-bit, 16-bit, 32-bit, and 64-bit integers available. Therefore, if you use a Python type, TensorFlow has to infer which data type you mean. "
   ]
  },
  {
   "cell_type": "markdown",
   "metadata": {},
   "source": [
    "\n",
    "It’s possible to convert the data into the appropriate type when you pass it into TensorFlow, but certain data types still may be difficult to declare correctly, such as complex numbers. Because of this, it is recommended to created hand-defined Tensor objects as NumPy arrays.\n"
   ]
  },
  {
   "cell_type": "markdown",
   "metadata": {},
   "source": [
    "### Note about constants"
   ]
  },
  {
   "cell_type": "code",
   "execution_count": 13,
   "metadata": {},
   "outputs": [
    {
     "name": "stdout",
     "output_type": "stream",
     "text": [
      "node {\n",
      "  name: \"a\"\n",
      "  op: \"Const\"\n",
      "  attr {\n",
      "    key: \"dtype\"\n",
      "    value {\n",
      "      type: DT_INT32\n",
      "    }\n",
      "  }\n",
      "  attr {\n",
      "    key: \"value\"\n",
      "    value {\n",
      "      tensor {\n",
      "        dtype: DT_INT32\n",
      "        tensor_shape {\n",
      "          dim {\n",
      "            size: 2\n",
      "          }\n",
      "        }\n",
      "        tensor_content: \"\\002\\000\\000\\000\\002\\000\\000\\000\"\n",
      "      }\n",
      "    }\n",
      "  }\n",
      "}\n",
      "node {\n",
      "  name: \"b\"\n",
      "  op: \"Const\"\n",
      "  attr {\n",
      "    key: \"dtype\"\n",
      "    value {\n",
      "      type: DT_INT32\n",
      "    }\n",
      "  }\n",
      "  attr {\n",
      "    key: \"value\"\n",
      "    value {\n",
      "      tensor {\n",
      "        dtype: DT_INT32\n",
      "        tensor_shape {\n",
      "          dim {\n",
      "            size: 2\n",
      "          }\n",
      "          dim {\n",
      "            size: 2\n",
      "          }\n",
      "        }\n",
      "        tensor_content: \"\\000\\000\\000\\000\\001\\000\\000\\000\\002\\000\\000\\000\\003\\000\\000\\000\"\n",
      "      }\n",
      "    }\n",
      "  }\n",
      "}\n",
      "node {\n",
      "  name: \"div\"\n",
      "  op: \"FloorDiv\"\n",
      "  input: \"b\"\n",
      "  input: \"a\"\n",
      "  attr {\n",
      "    key: \"T\"\n",
      "    value {\n",
      "      type: DT_INT32\n",
      "    }\n",
      "  }\n",
      "}\n",
      "node {\n",
      "  name: \"truediv/Cast\"\n",
      "  op: \"Cast\"\n",
      "  input: \"b\"\n",
      "  attr {\n",
      "    key: \"DstT\"\n",
      "    value {\n",
      "      type: DT_DOUBLE\n",
      "    }\n",
      "  }\n",
      "  attr {\n",
      "    key: \"SrcT\"\n",
      "    value {\n",
      "      type: DT_INT32\n",
      "    }\n",
      "  }\n",
      "}\n",
      "node {\n",
      "  name: \"truediv/Cast_1\"\n",
      "  op: \"Cast\"\n",
      "  input: \"a\"\n",
      "  attr {\n",
      "    key: \"DstT\"\n",
      "    value {\n",
      "      type: DT_DOUBLE\n",
      "    }\n",
      "  }\n",
      "  attr {\n",
      "    key: \"SrcT\"\n",
      "    value {\n",
      "      type: DT_INT32\n",
      "    }\n",
      "  }\n",
      "}\n",
      "node {\n",
      "  name: \"truediv\"\n",
      "  op: \"RealDiv\"\n",
      "  input: \"truediv/Cast\"\n",
      "  input: \"truediv/Cast_1\"\n",
      "  attr {\n",
      "    key: \"T\"\n",
      "    value {\n",
      "      type: DT_DOUBLE\n",
      "    }\n",
      "  }\n",
      "}\n",
      "node {\n",
      "  name: \"truediv_1/Cast\"\n",
      "  op: \"Cast\"\n",
      "  input: \"b\"\n",
      "  attr {\n",
      "    key: \"DstT\"\n",
      "    value {\n",
      "      type: DT_DOUBLE\n",
      "    }\n",
      "  }\n",
      "  attr {\n",
      "    key: \"SrcT\"\n",
      "    value {\n",
      "      type: DT_INT32\n",
      "    }\n",
      "  }\n",
      "}\n",
      "node {\n",
      "  name: \"truediv_1/Cast_1\"\n",
      "  op: \"Cast\"\n",
      "  input: \"a\"\n",
      "  attr {\n",
      "    key: \"DstT\"\n",
      "    value {\n",
      "      type: DT_DOUBLE\n",
      "    }\n",
      "  }\n",
      "  attr {\n",
      "    key: \"SrcT\"\n",
      "    value {\n",
      "      type: DT_INT32\n",
      "    }\n",
      "  }\n",
      "}\n",
      "node {\n",
      "  name: \"truediv_1\"\n",
      "  op: \"RealDiv\"\n",
      "  input: \"truediv_1/Cast\"\n",
      "  input: \"truediv_1/Cast_1\"\n",
      "  attr {\n",
      "    key: \"T\"\n",
      "    value {\n",
      "      type: DT_DOUBLE\n",
      "    }\n",
      "  }\n",
      "}\n",
      "node {\n",
      "  name: \"floordiv\"\n",
      "  op: \"FloorDiv\"\n",
      "  input: \"b\"\n",
      "  input: \"a\"\n",
      "  attr {\n",
      "    key: \"T\"\n",
      "    value {\n",
      "      type: DT_INT32\n",
      "    }\n",
      "  }\n",
      "}\n",
      "node {\n",
      "  name: \"a_1\"\n",
      "  op: \"Const\"\n",
      "  attr {\n",
      "    key: \"dtype\"\n",
      "    value {\n",
      "      type: DT_INT32\n",
      "    }\n",
      "  }\n",
      "  attr {\n",
      "    key: \"value\"\n",
      "    value {\n",
      "      tensor {\n",
      "        dtype: DT_INT32\n",
      "        tensor_shape {\n",
      "          dim {\n",
      "            size: 2\n",
      "          }\n",
      "        }\n",
      "        tensor_content: \"\\002\\000\\000\\000\\002\\000\\000\\000\"\n",
      "      }\n",
      "    }\n",
      "  }\n",
      "}\n",
      "node {\n",
      "  name: \"b_1\"\n",
      "  op: \"Const\"\n",
      "  attr {\n",
      "    key: \"dtype\"\n",
      "    value {\n",
      "      type: DT_INT32\n",
      "    }\n",
      "  }\n",
      "  attr {\n",
      "    key: \"value\"\n",
      "    value {\n",
      "      tensor {\n",
      "        dtype: DT_INT32\n",
      "        tensor_shape {\n",
      "          dim {\n",
      "            size: 2\n",
      "          }\n",
      "          dim {\n",
      "            size: 2\n",
      "          }\n",
      "        }\n",
      "        tensor_content: \"\\000\\000\\000\\000\\001\\000\\000\\000\\002\\000\\000\\000\\003\\000\\000\\000\"\n",
      "      }\n",
      "    }\n",
      "  }\n",
      "}\n",
      "node {\n",
      "  name: \"div_1\"\n",
      "  op: \"FloorDiv\"\n",
      "  input: \"b_1\"\n",
      "  input: \"a_1\"\n",
      "  attr {\n",
      "    key: \"T\"\n",
      "    value {\n",
      "      type: DT_INT32\n",
      "    }\n",
      "  }\n",
      "}\n",
      "node {\n",
      "  name: \"truediv_2/Cast\"\n",
      "  op: \"Cast\"\n",
      "  input: \"b_1\"\n",
      "  attr {\n",
      "    key: \"DstT\"\n",
      "    value {\n",
      "      type: DT_DOUBLE\n",
      "    }\n",
      "  }\n",
      "  attr {\n",
      "    key: \"SrcT\"\n",
      "    value {\n",
      "      type: DT_INT32\n",
      "    }\n",
      "  }\n",
      "}\n",
      "node {\n",
      "  name: \"truediv_2/Cast_1\"\n",
      "  op: \"Cast\"\n",
      "  input: \"a_1\"\n",
      "  attr {\n",
      "    key: \"DstT\"\n",
      "    value {\n",
      "      type: DT_DOUBLE\n",
      "    }\n",
      "  }\n",
      "  attr {\n",
      "    key: \"SrcT\"\n",
      "    value {\n",
      "      type: DT_INT32\n",
      "    }\n",
      "  }\n",
      "}\n",
      "node {\n",
      "  name: \"truediv_2\"\n",
      "  op: \"RealDiv\"\n",
      "  input: \"truediv_2/Cast\"\n",
      "  input: \"truediv_2/Cast_1\"\n",
      "  attr {\n",
      "    key: \"T\"\n",
      "    value {\n",
      "      type: DT_DOUBLE\n",
      "    }\n",
      "  }\n",
      "}\n",
      "node {\n",
      "  name: \"truediv_3/Cast\"\n",
      "  op: \"Cast\"\n",
      "  input: \"b_1\"\n",
      "  attr {\n",
      "    key: \"DstT\"\n",
      "    value {\n",
      "      type: DT_DOUBLE\n",
      "    }\n",
      "  }\n",
      "  attr {\n",
      "    key: \"SrcT\"\n",
      "    value {\n",
      "      type: DT_INT32\n",
      "    }\n",
      "  }\n",
      "}\n",
      "node {\n",
      "  name: \"truediv_3/Cast_1\"\n",
      "  op: \"Cast\"\n",
      "  input: \"a_1\"\n",
      "  attr {\n",
      "    key: \"DstT\"\n",
      "    value {\n",
      "      type: DT_DOUBLE\n",
      "    }\n",
      "  }\n",
      "  attr {\n",
      "    key: \"SrcT\"\n",
      "    value {\n",
      "      type: DT_INT32\n",
      "    }\n",
      "  }\n",
      "}\n",
      "node {\n",
      "  name: \"truediv_3\"\n",
      "  op: \"RealDiv\"\n",
      "  input: \"truediv_3/Cast\"\n",
      "  input: \"truediv_3/Cast_1\"\n",
      "  attr {\n",
      "    key: \"T\"\n",
      "    value {\n",
      "      type: DT_DOUBLE\n",
      "    }\n",
      "  }\n",
      "}\n",
      "node {\n",
      "  name: \"floordiv_1\"\n",
      "  op: \"FloorDiv\"\n",
      "  input: \"b_1\"\n",
      "  input: \"a_1\"\n",
      "  attr {\n",
      "    key: \"T\"\n",
      "    value {\n",
      "      type: DT_INT32\n",
      "    }\n",
      "  }\n",
      "}\n",
      "node {\n",
      "  name: \"a_2\"\n",
      "  op: \"Const\"\n",
      "  attr {\n",
      "    key: \"dtype\"\n",
      "    value {\n",
      "      type: DT_INT32\n",
      "    }\n",
      "  }\n",
      "  attr {\n",
      "    key: \"value\"\n",
      "    value {\n",
      "      tensor {\n",
      "        dtype: DT_INT32\n",
      "        tensor_shape {\n",
      "          dim {\n",
      "            size: 2\n",
      "          }\n",
      "        }\n",
      "        tensor_content: \"\\002\\000\\000\\000\\002\\000\\000\\000\"\n",
      "      }\n",
      "    }\n",
      "  }\n",
      "}\n",
      "node {\n",
      "  name: \"b_2\"\n",
      "  op: \"Const\"\n",
      "  attr {\n",
      "    key: \"dtype\"\n",
      "    value {\n",
      "      type: DT_INT32\n",
      "    }\n",
      "  }\n",
      "  attr {\n",
      "    key: \"value\"\n",
      "    value {\n",
      "      tensor {\n",
      "        dtype: DT_INT32\n",
      "        tensor_shape {\n",
      "          dim {\n",
      "            size: 2\n",
      "          }\n",
      "          dim {\n",
      "            size: 2\n",
      "          }\n",
      "        }\n",
      "        tensor_content: \"\\000\\000\\000\\000\\001\\000\\000\\000\\002\\000\\000\\000\\003\\000\\000\\000\"\n",
      "      }\n",
      "    }\n",
      "  }\n",
      "}\n",
      "node {\n",
      "  name: \"div_2\"\n",
      "  op: \"FloorDiv\"\n",
      "  input: \"b_2\"\n",
      "  input: \"a_2\"\n",
      "  attr {\n",
      "    key: \"T\"\n",
      "    value {\n",
      "      type: DT_INT32\n",
      "    }\n",
      "  }\n",
      "}\n",
      "node {\n",
      "  name: \"truediv_4/Cast\"\n",
      "  op: \"Cast\"\n",
      "  input: \"b_2\"\n",
      "  attr {\n",
      "    key: \"DstT\"\n",
      "    value {\n",
      "      type: DT_DOUBLE\n",
      "    }\n",
      "  }\n",
      "  attr {\n",
      "    key: \"SrcT\"\n",
      "    value {\n",
      "      type: DT_INT32\n",
      "    }\n",
      "  }\n",
      "}\n",
      "node {\n",
      "  name: \"truediv_4/Cast_1\"\n",
      "  op: \"Cast\"\n",
      "  input: \"a_2\"\n",
      "  attr {\n",
      "    key: \"DstT\"\n",
      "    value {\n",
      "      type: DT_DOUBLE\n",
      "    }\n",
      "  }\n",
      "  attr {\n",
      "    key: \"SrcT\"\n",
      "    value {\n",
      "      type: DT_INT32\n",
      "    }\n",
      "  }\n",
      "}\n",
      "node {\n",
      "  name: \"truediv_4\"\n",
      "  op: \"RealDiv\"\n",
      "  input: \"truediv_4/Cast\"\n",
      "  input: \"truediv_4/Cast_1\"\n",
      "  attr {\n",
      "    key: \"T\"\n",
      "    value {\n",
      "      type: DT_DOUBLE\n",
      "    }\n",
      "  }\n",
      "}\n",
      "node {\n",
      "  name: \"truediv_5/Cast\"\n",
      "  op: \"Cast\"\n",
      "  input: \"b_2\"\n",
      "  attr {\n",
      "    key: \"DstT\"\n",
      "    value {\n",
      "      type: DT_DOUBLE\n",
      "    }\n",
      "  }\n",
      "  attr {\n",
      "    key: \"SrcT\"\n",
      "    value {\n",
      "      type: DT_INT32\n",
      "    }\n",
      "  }\n",
      "}\n",
      "node {\n",
      "  name: \"truediv_5/Cast_1\"\n",
      "  op: \"Cast\"\n",
      "  input: \"a_2\"\n",
      "  attr {\n",
      "    key: \"DstT\"\n",
      "    value {\n",
      "      type: DT_DOUBLE\n",
      "    }\n",
      "  }\n",
      "  attr {\n",
      "    key: \"SrcT\"\n",
      "    value {\n",
      "      type: DT_INT32\n",
      "    }\n",
      "  }\n",
      "}\n",
      "node {\n",
      "  name: \"truediv_5\"\n",
      "  op: \"RealDiv\"\n",
      "  input: \"truediv_5/Cast\"\n",
      "  input: \"truediv_5/Cast_1\"\n",
      "  attr {\n",
      "    key: \"T\"\n",
      "    value {\n",
      "      type: DT_DOUBLE\n",
      "    }\n",
      "  }\n",
      "}\n",
      "node {\n",
      "  name: \"floordiv_2\"\n",
      "  op: \"FloorDiv\"\n",
      "  input: \"b_2\"\n",
      "  input: \"a_2\"\n",
      "  attr {\n",
      "    key: \"T\"\n",
      "    value {\n",
      "      type: DT_INT32\n",
      "    }\n",
      "  }\n",
      "}\n",
      "node {\n",
      "  name: \"TruncateDiv\"\n",
      "  op: \"TruncateDiv\"\n",
      "  input: \"b_2\"\n",
      "  input: \"a_2\"\n",
      "  attr {\n",
      "    key: \"T\"\n",
      "    value {\n",
      "      type: DT_INT32\n",
      "    }\n",
      "  }\n",
      "}\n",
      "node {\n",
      "  name: \"FloorDiv\"\n",
      "  op: \"FloorDiv\"\n",
      "  input: \"b_2\"\n",
      "  input: \"a_2\"\n",
      "  attr {\n",
      "    key: \"T\"\n",
      "    value {\n",
      "      type: DT_INT32\n",
      "    }\n",
      "  }\n",
      "}\n",
      "node {\n",
      "  name: \"d\"\n",
      "  op: \"Const\"\n",
      "  attr {\n",
      "    key: \"dtype\"\n",
      "    value {\n",
      "      type: DT_INT32\n",
      "    }\n",
      "  }\n",
      "  attr {\n",
      "    key: \"value\"\n",
      "    value {\n",
      "      tensor {\n",
      "        dtype: DT_INT32\n",
      "        tensor_shape {\n",
      "        }\n",
      "        int_val: 4\n",
      "      }\n",
      "    }\n",
      "  }\n",
      "}\n",
      "node {\n",
      "  name: \"e\"\n",
      "  op: \"Const\"\n",
      "  attr {\n",
      "    key: \"dtype\"\n",
      "    value {\n",
      "      type: DT_INT32\n",
      "    }\n",
      "  }\n",
      "  attr {\n",
      "    key: \"value\"\n",
      "    value {\n",
      "      tensor {\n",
      "        dtype: DT_INT32\n",
      "        tensor_shape {\n",
      "        }\n",
      "        int_val: 6\n",
      "      }\n",
      "    }\n",
      "  }\n",
      "}\n",
      "node {\n",
      "  name: \"div_3\"\n",
      "  op: \"FloorDiv\"\n",
      "  input: \"e\"\n",
      "  input: \"d\"\n",
      "  attr {\n",
      "    key: \"T\"\n",
      "    value {\n",
      "      type: DT_INT32\n",
      "    }\n",
      "  }\n",
      "}\n",
      "node {\n",
      "  name: \"zeros_like/tensor\"\n",
      "  op: \"Const\"\n",
      "  attr {\n",
      "    key: \"dtype\"\n",
      "    value {\n",
      "      type: DT_STRING\n",
      "    }\n",
      "  }\n",
      "  attr {\n",
      "    key: \"value\"\n",
      "    value {\n",
      "      tensor {\n",
      "        dtype: DT_STRING\n",
      "        tensor_shape {\n",
      "          dim {\n",
      "            size: 3\n",
      "          }\n",
      "        }\n",
      "        string_val: \"apple\"\n",
      "        string_val: \"peach\"\n",
      "        string_val: \"banana\"\n",
      "      }\n",
      "    }\n",
      "  }\n",
      "}\n",
      "node {\n",
      "  name: \"zeros_like/shape_as_tensor\"\n",
      "  op: \"Const\"\n",
      "  attr {\n",
      "    key: \"dtype\"\n",
      "    value {\n",
      "      type: DT_INT32\n",
      "    }\n",
      "  }\n",
      "  attr {\n",
      "    key: \"value\"\n",
      "    value {\n",
      "      tensor {\n",
      "        dtype: DT_INT32\n",
      "        tensor_shape {\n",
      "          dim {\n",
      "            size: 1\n",
      "          }\n",
      "        }\n",
      "        int_val: 3\n",
      "      }\n",
      "    }\n",
      "  }\n",
      "}\n",
      "node {\n",
      "  name: \"zeros_like/Const\"\n",
      "  op: \"Const\"\n",
      "  attr {\n",
      "    key: \"dtype\"\n",
      "    value {\n",
      "      type: DT_STRING\n",
      "    }\n",
      "  }\n",
      "  attr {\n",
      "    key: \"value\"\n",
      "    value {\n",
      "      tensor {\n",
      "        dtype: DT_STRING\n",
      "        tensor_shape {\n",
      "        }\n",
      "        string_val: \"\"\n",
      "      }\n",
      "    }\n",
      "  }\n",
      "}\n",
      "node {\n",
      "  name: \"zeros_like\"\n",
      "  op: \"Fill\"\n",
      "  input: \"zeros_like/shape_as_tensor\"\n",
      "  input: \"zeros_like/Const\"\n",
      "  attr {\n",
      "    key: \"T\"\n",
      "    value {\n",
      "      type: DT_STRING\n",
      "    }\n",
      "  }\n",
      "  attr {\n",
      "    key: \"index_type\"\n",
      "    value {\n",
      "      type: DT_INT32\n",
      "    }\n",
      "  }\n",
      "}\n",
      "node {\n",
      "  name: \"zeros_like_1/tensor\"\n",
      "  op: \"Const\"\n",
      "  attr {\n",
      "    key: \"dtype\"\n",
      "    value {\n",
      "      type: DT_STRING\n",
      "    }\n",
      "  }\n",
      "  attr {\n",
      "    key: \"value\"\n",
      "    value {\n",
      "      tensor {\n",
      "        dtype: DT_STRING\n",
      "        tensor_shape {\n",
      "          dim {\n",
      "            size: 3\n",
      "          }\n",
      "        }\n",
      "        string_val: \"apple\"\n",
      "        string_val: \"peach\"\n",
      "        string_val: \"banana\"\n",
      "      }\n",
      "    }\n",
      "  }\n",
      "}\n",
      "node {\n",
      "  name: \"zeros_like_1/shape_as_tensor\"\n",
      "  op: \"Const\"\n",
      "  attr {\n",
      "    key: \"dtype\"\n",
      "    value {\n",
      "      type: DT_INT32\n",
      "    }\n",
      "  }\n",
      "  attr {\n",
      "    key: \"value\"\n",
      "    value {\n",
      "      tensor {\n",
      "        dtype: DT_INT32\n",
      "        tensor_shape {\n",
      "          dim {\n",
      "            size: 1\n",
      "          }\n",
      "        }\n",
      "        int_val: 3\n",
      "      }\n",
      "    }\n",
      "  }\n",
      "}\n",
      "node {\n",
      "  name: \"zeros_like_1/Const\"\n",
      "  op: \"Const\"\n",
      "  attr {\n",
      "    key: \"dtype\"\n",
      "    value {\n",
      "      type: DT_STRING\n",
      "    }\n",
      "  }\n",
      "  attr {\n",
      "    key: \"value\"\n",
      "    value {\n",
      "      tensor {\n",
      "        dtype: DT_STRING\n",
      "        tensor_shape {\n",
      "        }\n",
      "        string_val: \"\"\n",
      "      }\n",
      "    }\n",
      "  }\n",
      "}\n",
      "node {\n",
      "  name: \"zeros_like_1\"\n",
      "  op: \"Fill\"\n",
      "  input: \"zeros_like_1/shape_as_tensor\"\n",
      "  input: \"zeros_like_1/Const\"\n",
      "  attr {\n",
      "    key: \"T\"\n",
      "    value {\n",
      "      type: DT_STRING\n",
      "    }\n",
      "  }\n",
      "  attr {\n",
      "    key: \"index_type\"\n",
      "    value {\n",
      "      type: DT_INT32\n",
      "    }\n",
      "  }\n",
      "}\n",
      "node {\n",
      "  name: \"zeros_like_2/tensor\"\n",
      "  op: \"Const\"\n",
      "  attr {\n",
      "    key: \"dtype\"\n",
      "    value {\n",
      "      type: DT_BOOL\n",
      "    }\n",
      "  }\n",
      "  attr {\n",
      "    key: \"value\"\n",
      "    value {\n",
      "      tensor {\n",
      "        dtype: DT_BOOL\n",
      "        tensor_shape {\n",
      "          dim {\n",
      "            size: 3\n",
      "          }\n",
      "          dim {\n",
      "            size: 3\n",
      "          }\n",
      "        }\n",
      "        bool_val: true\n",
      "        bool_val: false\n",
      "        bool_val: false\n",
      "        bool_val: false\n",
      "        bool_val: false\n",
      "        bool_val: true\n",
      "        bool_val: false\n",
      "        bool_val: true\n",
      "        bool_val: false\n",
      "      }\n",
      "    }\n",
      "  }\n",
      "}\n",
      "node {\n",
      "  name: \"zeros_like_2/shape_as_tensor\"\n",
      "  op: \"Const\"\n",
      "  attr {\n",
      "    key: \"dtype\"\n",
      "    value {\n",
      "      type: DT_INT32\n",
      "    }\n",
      "  }\n",
      "  attr {\n",
      "    key: \"value\"\n",
      "    value {\n",
      "      tensor {\n",
      "        dtype: DT_INT32\n",
      "        tensor_shape {\n",
      "          dim {\n",
      "            size: 2\n",
      "          }\n",
      "        }\n",
      "        tensor_content: \"\\003\\000\\000\\000\\003\\000\\000\\000\"\n",
      "      }\n",
      "    }\n",
      "  }\n",
      "}\n",
      "node {\n",
      "  name: \"zeros_like_2/Const\"\n",
      "  op: \"Const\"\n",
      "  attr {\n",
      "    key: \"dtype\"\n",
      "    value {\n",
      "      type: DT_BOOL\n",
      "    }\n",
      "  }\n",
      "  attr {\n",
      "    key: \"value\"\n",
      "    value {\n",
      "      tensor {\n",
      "        dtype: DT_BOOL\n",
      "        tensor_shape {\n",
      "        }\n",
      "        bool_val: false\n",
      "      }\n",
      "    }\n",
      "  }\n",
      "}\n",
      "node {\n",
      "  name: \"zeros_like_2\"\n",
      "  op: \"Fill\"\n",
      "  input: \"zeros_like_2/shape_as_tensor\"\n",
      "  input: \"zeros_like_2/Const\"\n",
      "  attr {\n",
      "    key: \"T\"\n",
      "    value {\n",
      "      type: DT_BOOL\n",
      "    }\n",
      "  }\n",
      "  attr {\n",
      "    key: \"index_type\"\n",
      "    value {\n",
      "      type: DT_INT32\n",
      "    }\n",
      "  }\n",
      "}\n",
      "node {\n",
      "  name: \"ones_like/tensor\"\n",
      "  op: \"Const\"\n",
      "  attr {\n",
      "    key: \"dtype\"\n",
      "    value {\n",
      "      type: DT_BOOL\n",
      "    }\n",
      "  }\n",
      "  attr {\n",
      "    key: \"value\"\n",
      "    value {\n",
      "      tensor {\n",
      "        dtype: DT_BOOL\n",
      "        tensor_shape {\n",
      "          dim {\n",
      "            size: 3\n",
      "          }\n",
      "          dim {\n",
      "            size: 3\n",
      "          }\n",
      "        }\n",
      "        bool_val: true\n",
      "        bool_val: false\n",
      "        bool_val: false\n",
      "        bool_val: false\n",
      "        bool_val: false\n",
      "        bool_val: true\n",
      "        bool_val: false\n",
      "        bool_val: true\n",
      "        bool_val: false\n",
      "      }\n",
      "    }\n",
      "  }\n",
      "}\n",
      "node {\n",
      "  name: \"ones_like/Shape\"\n",
      "  op: \"Const\"\n",
      "  attr {\n",
      "    key: \"dtype\"\n",
      "    value {\n",
      "      type: DT_INT32\n",
      "    }\n",
      "  }\n",
      "  attr {\n",
      "    key: \"value\"\n",
      "    value {\n",
      "      tensor {\n",
      "        dtype: DT_INT32\n",
      "        tensor_shape {\n",
      "          dim {\n",
      "            size: 2\n",
      "          }\n",
      "        }\n",
      "        tensor_content: \"\\003\\000\\000\\000\\003\\000\\000\\000\"\n",
      "      }\n",
      "    }\n",
      "  }\n",
      "}\n",
      "node {\n",
      "  name: \"ones_like/Const\"\n",
      "  op: \"Const\"\n",
      "  attr {\n",
      "    key: \"dtype\"\n",
      "    value {\n",
      "      type: DT_BOOL\n",
      "    }\n",
      "  }\n",
      "  attr {\n",
      "    key: \"value\"\n",
      "    value {\n",
      "      tensor {\n",
      "        dtype: DT_BOOL\n",
      "        tensor_shape {\n",
      "        }\n",
      "        bool_val: true\n",
      "      }\n",
      "    }\n",
      "  }\n",
      "}\n",
      "node {\n",
      "  name: \"ones_like\"\n",
      "  op: \"Fill\"\n",
      "  input: \"ones_like/Shape\"\n",
      "  input: \"ones_like/Const\"\n",
      "  attr {\n",
      "    key: \"T\"\n",
      "    value {\n",
      "      type: DT_BOOL\n",
      "    }\n",
      "  }\n",
      "  attr {\n",
      "    key: \"index_type\"\n",
      "    value {\n",
      "      type: DT_INT32\n",
      "    }\n",
      "  }\n",
      "}\n",
      "node {\n",
      "  name: \"ones/shape_as_tensor\"\n",
      "  op: \"Const\"\n",
      "  attr {\n",
      "    key: \"dtype\"\n",
      "    value {\n",
      "      type: DT_INT32\n",
      "    }\n",
      "  }\n",
      "  attr {\n",
      "    key: \"value\"\n",
      "    value {\n",
      "      tensor {\n",
      "        dtype: DT_INT32\n",
      "        tensor_shape {\n",
      "          dim {\n",
      "            size: 2\n",
      "          }\n",
      "        }\n",
      "        tensor_content: \"\\002\\000\\000\\000\\002\\000\\000\\000\"\n",
      "      }\n",
      "    }\n",
      "  }\n",
      "}\n",
      "node {\n",
      "  name: \"ones/Const\"\n",
      "  op: \"Const\"\n",
      "  attr {\n",
      "    key: \"dtype\"\n",
      "    value {\n",
      "      type: DT_FLOAT\n",
      "    }\n",
      "  }\n",
      "  attr {\n",
      "    key: \"value\"\n",
      "    value {\n",
      "      tensor {\n",
      "        dtype: DT_FLOAT\n",
      "        tensor_shape {\n",
      "        }\n",
      "        float_val: 1.0\n",
      "      }\n",
      "    }\n",
      "  }\n",
      "}\n",
      "node {\n",
      "  name: \"ones\"\n",
      "  op: \"Fill\"\n",
      "  input: \"ones/shape_as_tensor\"\n",
      "  input: \"ones/Const\"\n",
      "  attr {\n",
      "    key: \"T\"\n",
      "    value {\n",
      "      type: DT_FLOAT\n",
      "    }\n",
      "  }\n",
      "  attr {\n",
      "    key: \"index_type\"\n",
      "    value {\n",
      "      type: DT_INT32\n",
      "    }\n",
      "  }\n",
      "}\n",
      "node {\n",
      "  name: \"zeros/shape_as_tensor\"\n",
      "  op: \"Const\"\n",
      "  attr {\n",
      "    key: \"dtype\"\n",
      "    value {\n",
      "      type: DT_INT32\n",
      "    }\n",
      "  }\n",
      "  attr {\n",
      "    key: \"value\"\n",
      "    value {\n",
      "      tensor {\n",
      "        dtype: DT_INT32\n",
      "        tensor_shape {\n",
      "          dim {\n",
      "            size: 2\n",
      "          }\n",
      "        }\n",
      "        tensor_content: \"\\002\\000\\000\\000\\003\\000\\000\\000\"\n",
      "      }\n",
      "    }\n",
      "  }\n",
      "}\n",
      "node {\n",
      "  name: \"zeros/Const\"\n",
      "  op: \"Const\"\n",
      "  attr {\n",
      "    key: \"dtype\"\n",
      "    value {\n",
      "      type: DT_INT32\n",
      "    }\n",
      "  }\n",
      "  attr {\n",
      "    key: \"value\"\n",
      "    value {\n",
      "      tensor {\n",
      "        dtype: DT_INT32\n",
      "        tensor_shape {\n",
      "        }\n",
      "        int_val: 0\n",
      "      }\n",
      "    }\n",
      "  }\n",
      "}\n",
      "node {\n",
      "  name: \"zeros\"\n",
      "  op: \"Fill\"\n",
      "  input: \"zeros/shape_as_tensor\"\n",
      "  input: \"zeros/Const\"\n",
      "  attr {\n",
      "    key: \"T\"\n",
      "    value {\n",
      "      type: DT_INT32\n",
      "    }\n",
      "  }\n",
      "  attr {\n",
      "    key: \"index_type\"\n",
      "    value {\n",
      "      type: DT_INT32\n",
      "    }\n",
      "  }\n",
      "}\n",
      "node {\n",
      "  name: \"my_const\"\n",
      "  op: \"Const\"\n",
      "  attr {\n",
      "    key: \"dtype\"\n",
      "    value {\n",
      "      type: DT_FLOAT\n",
      "    }\n",
      "  }\n",
      "  attr {\n",
      "    key: \"value\"\n",
      "    value {\n",
      "      tensor {\n",
      "        dtype: DT_FLOAT\n",
      "        tensor_shape {\n",
      "          dim {\n",
      "            size: 2\n",
      "          }\n",
      "        }\n",
      "        tensor_content: \"\\000\\000\\200?\\000\\000\\000@\"\n",
      "      }\n",
      "    }\n",
      "  }\n",
      "}\n",
      "versions {\n",
      "  producer: 26\n",
      "}\n",
      "\n"
     ]
    }
   ],
   "source": [
    "my_const  = tf.constant([1.0,2.0], name = \"my_const\")\n",
    "with tf.Session() as sess:\n",
    "    print(sess.graph.as_graph_def())"
   ]
  },
  {
   "cell_type": "markdown",
   "metadata": {},
   "source": [
    "Note that constant definitions are stored in a graph and this makes loading graphs expensive when constants are big\n",
    "\n",
    "The graph definition is stored in a protobuf (protocol buffers, Google's language-neutral, platform-neutral, extensible mechanism for serializing structured data – think XML, but smaller, faster, and simpler.)\n",
    "\n",
    "Hence, only use constants for primitive types. Use variables or readers for more data that requires memory."
   ]
  },
  {
   "cell_type": "markdown",
   "metadata": {},
   "source": [
    "### Variables"
   ]
  },
  {
   "cell_type": "code",
   "execution_count": 18,
   "metadata": {
    "collapsed": true
   },
   "outputs": [],
   "source": [
    "#create variable with tf.Variable\n",
    "\n",
    "s = tf.Variable(2) #scalar\n",
    "v = tf.Variable([2,3]) #vector \n",
    "m = tf.Variable([[1,2],[3,4]]) #matrix\n",
    "W = tf.Variable(tf.zeros([784,10])) #784x10 matrix"
   ]
  },
  {
   "cell_type": "code",
   "execution_count": 25,
   "metadata": {},
   "outputs": [],
   "source": [
    "#create variables with tf.get_variable\n",
    "s2 = tf.get_variable(\"scalar_3\", initializer = tf.constant(2))\n",
    "v2 = tf.get_variable(\"vector_3\", initializer = tf.constant([2,3]))\n",
    "m2 = tf.get_variable(\"matrix_3\", initializer = tf.constant([[1,2],[3,4]]))\n",
    "W2 = tf.get_variable(\"big_matrix_3\", shape = (784,10), initializer = tf.zeros_initializer())\n",
    "\n",
    "## Can be only run once; gives error if tried to be reinitialized, if reuse is not set"
   ]
  },
  {
   "cell_type": "code",
   "execution_count": 86,
   "metadata": {
    "collapsed": true
   },
   "outputs": [],
   "source": [
    "# Variables support various methods\n",
    "x = tf.Variable(2)\n",
    "\n",
    "# x.initializer #initializer op\n",
    "# x.value() # read operation\n",
    "# x.assign(..) #Write operation\n",
    "# x.assign_add(..) #?"
   ]
  },
  {
   "cell_type": "code",
   "execution_count": 87,
   "metadata": {},
   "outputs": [],
   "source": [
    "# You have always to initialize your variables\n",
    "\n",
    "#e.g\n",
    "# init = tf.global_variables_initializer()\n",
    "# with tf.Session() as sess:\n",
    "#    sess.run(init)\n",
    "\n",
    "# Initializing specifc variables:\n",
    "# init_ab = tf.variables_initializer([a,b])\n",
    "# with tf.Session() as sess:\n",
    "#    sess.run(init_ab)\n",
    "\n",
    "# Initialize a single variable\n",
    "# W = tf.Variable(tf.zeros([10,10]))\n",
    "# with tf.Session() as sess:\n",
    "#    sess.run(W.initializer)"
   ]
  },
  {
   "cell_type": "code",
   "execution_count": 27,
   "metadata": {},
   "outputs": [
    {
     "name": "stdout",
     "output_type": "stream",
     "text": [
      "<tf.Variable 'Variable_9:0' shape=(5, 5) dtype=float32_ref> \n",
      "\n",
      "[[ 0.01528348 -0.52057874 -1.7205936  -1.1519074  -0.9202446 ]\n",
      " [ 0.6885252   1.449347   -0.23999627  0.70245844 -0.54678637]\n",
      " [ 0.03010954 -0.4704021   0.5711186  -0.1621516   0.64585155]\n",
      " [ 0.4971588   1.3999316   0.5230011   0.6106415  -0.11909041]\n",
      " [ 0.40521947 -0.3328309  -0.94336474 -0.75710934  1.8503329 ]]\n"
     ]
    }
   ],
   "source": [
    "#Eval() a variable\n",
    "\n",
    "W = tf.Variable(tf.truncated_normal([5,5]))\n",
    "with tf.Session() as sess:\n",
    "    sess.run(W.initializer)\n",
    "    print(W,\"\\n\")\n",
    "    print(W.eval())   "
   ]
  },
  {
   "cell_type": "code",
   "execution_count": 28,
   "metadata": {},
   "outputs": [
    {
     "name": "stdout",
     "output_type": "stream",
     "text": [
      "10\n"
     ]
    }
   ],
   "source": [
    "#tf.Variable.assing()\n",
    "\n",
    "W = tf.Variable(10)\n",
    "W.assign(100)\n",
    "with tf.Session() as sess:\n",
    "    sess.run(W.initializer)\n",
    "    print(W.eval()) # Did not call W.assign(100) in the session hence the value was never changed."
   ]
  },
  {
   "cell_type": "code",
   "execution_count": 30,
   "metadata": {},
   "outputs": [
    {
     "name": "stdout",
     "output_type": "stream",
     "text": [
      "100\n"
     ]
    }
   ],
   "source": [
    "#tf.Variable.assign()\n",
    "\n",
    "W = tf.Variable(10)\n",
    "assign_op= W.assign(100)\n",
    "with tf.Session() as sess:\n",
    "    sess.run(W.initializer)\n",
    "    sess.run(assign_op)\n",
    "    print(W.eval()) "
   ]
  },
  {
   "cell_type": "code",
   "execution_count": 31,
   "metadata": {},
   "outputs": [
    {
     "name": "stdout",
     "output_type": "stream",
     "text": [
      "2\n",
      "2\n",
      "4\n",
      "8\n"
     ]
    }
   ],
   "source": [
    "# MOre example\n",
    "\n",
    "my_var = tf.Variable(2)\n",
    "my_var2 = my_var.assign(2*my_var) # Note that my_var2 is 'assigned' from value at my_var\n",
    "# i.e this assigned 2*my_var to my_var everytimes my_var2 op is executed.\n",
    "# Not very clear to me why this happens\n",
    "with tf.Session() as sess:\n",
    "    sess.run(my_var.initializer)\n",
    "    print(sess.run(my_var))\n",
    "    print(sess.run(my_var))\n",
    "    print(sess.run(my_var2))\n",
    "    print(sess.run(my_var2))\n"
   ]
  },
  {
   "cell_type": "code",
   "execution_count": 107,
   "metadata": {},
   "outputs": [
    {
     "name": "stdout",
     "output_type": "stream",
     "text": [
      "20\n",
      "18\n"
     ]
    }
   ],
   "source": [
    "# Assign_add and #Assign_sub; \n",
    "my_var = tf.Variable(10)\n",
    "\n",
    "with tf.Session() as sess:\n",
    "    sess.run(my_var.initializer)\n",
    "    \n",
    "    #increment by 10\n",
    "    print(sess.run(my_var.assign_add(10)))\n",
    "    \n",
    "    \n",
    "    #subtract 2\n",
    "    print(sess.run(my_var.assign_sub(2)))"
   ]
  },
  {
   "cell_type": "code",
   "execution_count": 110,
   "metadata": {},
   "outputs": [
    {
     "name": "stdout",
     "output_type": "stream",
     "text": [
      "20\n",
      "0\n"
     ]
    }
   ],
   "source": [
    "# Each session maintains its own copy of the variable\n",
    "\n",
    "W = tf.Variable(10)\n",
    "\n",
    "sess1 = tf.Session()\n",
    "sess2 = tf.Session()\n",
    "\n",
    "sess1.run(W.initializer)\n",
    "sess2.run(W.initializer)\n",
    "\n",
    "print(sess1.run(W.assign_add(10))) # W has different value in Session 1 thans in Session 2\n",
    "print(sess2.run(W.assign_sub(10)))\n",
    "\n",
    "sess1.close()\n",
    "sess2.close()"
   ]
  },
  {
   "cell_type": "code",
   "execution_count": 32,
   "metadata": {
    "collapsed": true
   },
   "outputs": [],
   "source": [
    "# Using a variable to initialze another variable.\n",
    "\n",
    "W = tf.Variable(tf.truncated_normal([10,10]))\n",
    "#U = tf.Variable(2 * W) ENsure W is initialized before\n",
    "U = tf.Variable(2*W.initialized_value())"
   ]
  },
  {
   "cell_type": "markdown",
   "metadata": {},
   "source": [
    "Control Dependencies\n",
    "Sometimes, we will have two more two independent ops but you’d like to specify which op should be run first, then you use tf.Graph.control_dependencies(control_inputs)"
   ]
  },
  {
   "cell_type": "code",
   "execution_count": 111,
   "metadata": {
    "collapsed": true
   },
   "outputs": [],
   "source": [
    "# Control Dependencies\n",
    "# Defines which ops should be run first\n",
    "\n",
    "# with g.control_dependencies([a,b,c]):\n",
    "    # d and e will only run after a, b, and c have exectued\n",
    "#    d = \n",
    "#    e = "
   ]
  },
  {
   "cell_type": "code",
   "execution_count": 33,
   "metadata": {},
   "outputs": [
    {
     "name": "stdout",
     "output_type": "stream",
     "text": [
      "[6. 7. 8.]\n"
     ]
    }
   ],
   "source": [
    "#Placeholders\n",
    "#A TF program has 2 phase. 1 phas for gathering the graph nodes and 2nd for using a session to execute operations\n",
    "\n",
    "a = tf.placeholder(tf.float32, shape = [3])\n",
    "        #Note shape definition is important, else tensor of any shape will be accepted\n",
    "\n",
    "b = tf.constant([5,5,5], tf.float32)\n",
    "c = a + b\n",
    "\n",
    "#Need to feed the value to a before running\n",
    "with tf.Session() as sess:\n",
    "    print(sess.run(c,{a: [1,2,3]})) # tensor name is the key in dict and dictionary values are values that we want to feed\n"
   ]
  },
  {
   "cell_type": "code",
   "execution_count": 114,
   "metadata": {},
   "outputs": [
    {
     "name": "stdout",
     "output_type": "stream",
     "text": [
      "[ 6.  7.  5.]\n",
      "[ 6.  7.  6.]\n",
      "[ 6.  7.  7.]\n",
      "[ 6.  7.  8.]\n",
      "[ 6.  7.  9.]\n"
     ]
    }
   ],
   "source": [
    "# Multiple data points for placeholder:\n",
    "#Placeholders\n",
    "#A TF program has 2 phase. 1 phas for gathering the graph nodes and 2nd for using a session to execute operations\n",
    "\n",
    "a = tf.placeholder(tf.float32, shape = [3])\n",
    "\n",
    "b = tf.constant([5,5,5], tf.float32)\n",
    "c = a + b\n",
    "\n",
    "#Need to feed the value to a before running\n",
    "with tf.Session() as sess:\n",
    "    for k in range(5): # Call the image in loop.\n",
    "        print(sess.run(c,{a: [1,2,k]})) # tensor name is the key in dict and dictionary values are values that we want to feed\n"
   ]
  },
  {
   "cell_type": "code",
   "execution_count": 34,
   "metadata": {},
   "outputs": [
    {
     "name": "stdout",
     "output_type": "stream",
     "text": [
      "45\n"
     ]
    }
   ],
   "source": [
    "# feed_dict\n",
    "\n",
    "a = tf.add(2,5)\n",
    "b = tf.multiply(a,3)\n",
    "\n",
    "with tf.Session() as sess:\n",
    "    replace_dict ={a:15} # new value for a\n",
    "    print(sess.run(b,feed_dict = replace_dict)) #sess.run can take a second argument as the dicitionary.\n",
    "    \n",
    "    "
   ]
  },
  {
   "cell_type": "code",
   "execution_count": 35,
   "metadata": {},
   "outputs": [
    {
     "name": "stdout",
     "output_type": "stream",
     "text": [
      "30\n",
      "30\n",
      "30\n",
      "30\n",
      "30\n"
     ]
    }
   ],
   "source": [
    "#Normal loading:\n",
    "x = tf.Variable(10)\n",
    "y = tf.Variable(20)\n",
    "z = tf.add(x,y)\n",
    "\n",
    "with tf.Session() as sess:\n",
    "    sess.run(tf.global_variables_initializer())\n",
    "    for _ in range(5):\n",
    "        print(sess.run(z))"
   ]
  },
  {
   "cell_type": "code",
   "execution_count": 125,
   "metadata": {},
   "outputs": [
    {
     "name": "stdout",
     "output_type": "stream",
     "text": [
      "30\n",
      "30\n",
      "30\n",
      "30\n",
      "30\n"
     ]
    }
   ],
   "source": [
    "# Lazy Loading\n",
    "#Normal loading:\n",
    "x = tf.Variable(10)\n",
    "y = tf.Variable(20)\n",
    "\n",
    "with tf.Session() as sess:\n",
    "    sess.run(tf.global_variables_initializer())\n",
    "    for _ in range(5):\n",
    "        print(sess.run(tf.add(x,y)))"
   ]
  }
 ],
 "metadata": {
  "anaconda-cloud": {},
  "kernelspec": {
   "display_name": "Python 2",
   "language": "python",
   "name": "python2"
  },
  "language_info": {
   "codemirror_mode": {
    "name": "ipython",
    "version": 2
   },
   "file_extension": ".py",
   "mimetype": "text/x-python",
   "name": "python",
   "nbconvert_exporter": "python",
   "pygments_lexer": "ipython2",
   "version": "2.7.12"
  }
 },
 "nbformat": 4,
 "nbformat_minor": 1
}
