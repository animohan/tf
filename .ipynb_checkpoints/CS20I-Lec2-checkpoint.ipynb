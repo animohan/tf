{
 "cells": [
  {
   "cell_type": "markdown",
   "metadata": {},
   "source": [
    "## Lecture 2: CS 20 TensorFlow\n",
    "Following lecture notes from the class"
   ]
  },
  {
   "cell_type": "markdown",
   "metadata": {},
   "source": [
    "### Review previous lecture\n",
    "TensorFlow separates definition of computations from their executions\n",
    "\n",
    "Phase 1: Assemble a graph of operations\n",
    "Phase 2: Use a session to feed value and execute the operations in the graph\n",
    "\n",
    "#### Constants\n",
    "- Constant values are stored in the graph definition; use they carefully or graph gets bloated\n",
    "- Sessions allocate memory to store variable; two different sessions can hold two different value for the same variable\n",
    "\n",
    "#### Feed Dict\n",
    "- Feed dict feeds values into placeholders with a dictionary.\n",
    "- Easy to use, but has impact on perf\n",
    "\n",
    "#### Lazy loading\n",
    "- Separate the assembling of graph and the execution of operations.\n",
    "- Use python attribute to ensure function is only loaded the first time its called."
   ]
  },
  {
   "cell_type": "code",
   "execution_count": null,
   "metadata": {
    "collapsed": true
   },
   "outputs": [],
   "source": []
  }
 ],
 "metadata": {
  "kernelspec": {
   "display_name": "Python 3",
   "language": "python",
   "name": "python3"
  },
  "language_info": {
   "codemirror_mode": {
    "name": "ipython",
    "version": 3
   },
   "file_extension": ".py",
   "mimetype": "text/x-python",
   "name": "python",
   "nbconvert_exporter": "python",
   "pygments_lexer": "ipython3",
   "version": "3.5.2"
  }
 },
 "nbformat": 4,
 "nbformat_minor": 2
}
