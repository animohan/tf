{
 "cells": [
  {
   "cell_type": "markdown",
   "metadata": {},
   "source": [
    "Site:http://web.stanford.edu/class/cs20si/\n",
    "\n",
    "Lecture: \n",
    "Step 1: Assemble a graph\n",
    "Step 2: User a session to execute the graph"
   ]
  },
  {
   "cell_type": "markdown",
   "metadata": {},
   "source": [
    "What is a Tensor?\n",
    "0-d Tensor - Scalar\n",
    "1-d Tensor - Vector\n",
    "2-d Tensor - Matrix\n",
    "..so on"
   ]
  },
  {
   "cell_type": "code",
   "execution_count": 1,
   "metadata": {
    "collapsed": true
   },
   "outputs": [],
   "source": [
    "import tensorflow as tf"
   ]
  },
  {
   "cell_type": "code",
   "execution_count": 3,
   "metadata": {
    "collapsed": false
   },
   "outputs": [
    {
     "name": "stdout",
     "output_type": "stream",
     "text": [
      "Tensor(\"Add_1:0\", shape=(), dtype=int32)\n"
     ]
    }
   ],
   "source": [
    "a = tf.add(2,3)\n",
    "print(a)"
   ]
  },
  {
   "cell_type": "markdown",
   "metadata": {},
   "source": [
    "Printing a does not give the result, but it gives the node information. The node has not been executed."
   ]
  },
  {
   "cell_type": "code",
   "execution_count": 5,
   "metadata": {
    "collapsed": false
   },
   "outputs": [
    {
     "name": "stdout",
     "output_type": "stream",
     "text": [
      "Tensor(\"Add_3:0\", shape=(), dtype=float32)\n"
     ]
    }
   ],
   "source": [
    "b = tf.add(3.0, 5.0)\n",
    "print(b)"
   ]
  },
  {
   "cell_type": "markdown",
   "metadata": {},
   "source": [
    "Tensors are just data. \n",
    "Data Flow is the Tensor flow graph\n",
    "Now how to get the value of a and b. Run it as part of session. Running in a session means that running with all available resources."
   ]
  },
  {
   "cell_type": "code",
   "execution_count": 7,
   "metadata": {
    "collapsed": false
   },
   "outputs": [
    {
     "name": "stdout",
     "output_type": "stream",
     "text": [
      "5\n"
     ]
    }
   ],
   "source": [
    "#Create a session; Run the code for 'a' and print the result.\n",
    "sess = tf.Session()\n",
    "print(sess.run(a)) # Tensor looks at value of node a and calculates the node value.\n",
    "sess.close()"
   ]
  },
  {
   "cell_type": "code",
   "execution_count": 8,
   "metadata": {
    "collapsed": false
   },
   "outputs": [
    {
     "name": "stdout",
     "output_type": "stream",
     "text": [
      "5\n"
     ]
    }
   ],
   "source": [
    "with tf.Session() as sess:\n",
    "    print(sess.run(a)) # Using \"With\""
   ]
  },
  {
   "cell_type": "markdown",
   "metadata": {},
   "source": [
    "tf.Session(): A Session object encapsulates the environment in which Operation objects are executed and Tensor objects are evaluated."
   ]
  },
  {
   "cell_type": "markdown",
   "metadata": {},
   "source": [
    "### Another Tensor graph"
   ]
  },
  {
   "cell_type": "code",
   "execution_count": 13,
   "metadata": {
    "collapsed": false
   },
   "outputs": [
    {
     "name": "stdout",
     "output_type": "stream",
     "text": [
      "7776\n"
     ]
    }
   ],
   "source": [
    "x = 2\n",
    "y = 3\n",
    "op1 = tf.add(x,y)\n",
    "op2 = tf.multiply(x,y)\n",
    "op3 = tf.pow(op2, op1)\n",
    "with tf.Session() as sess:\n",
    "    op3 = sess.run(op3)\n",
    "    print(op3)"
   ]
  },
  {
   "cell_type": "markdown",
   "metadata": {},
   "source": [
    "In the above example; just running the node for op3 enumerates all the previous nodes which are required to evaluate op3"
   ]
  },
  {
   "cell_type": "code",
   "execution_count": 14,
   "metadata": {
    "collapsed": false
   },
   "outputs": [
    {
     "name": "stdout",
     "output_type": "stream",
     "text": [
      "7776\n"
     ]
    }
   ],
   "source": [
    "x = 2\n",
    "y = 3\n",
    "op1 = tf.add(x,y)\n",
    "op2 = tf.multiply(x,y)\n",
    "\n",
    "useless = tf.multiply(x, op1)\n",
    "\n",
    "op3 = tf.pow(op2, op1)\n",
    "with tf.Session() as sess:\n",
    "    op3 = sess.run(op3)\n",
    "    print(op3)"
   ]
  },
  {
   "cell_type": "markdown",
   "metadata": {},
   "source": [
    "useless is not required in the sess.run for op3; 'useless' is not evaulated. If we need to get output then it will be run"
   ]
  },
  {
   "cell_type": "code",
   "execution_count": 19,
   "metadata": {
    "collapsed": false
   },
   "outputs": [
    {
     "name": "stdout",
     "output_type": "stream",
     "text": [
      "[10]\n"
     ]
    }
   ],
   "source": [
    "with tf.Session() as sess:\n",
    "    k = sess.run([useless])\n",
    "print(k)"
   ]
  },
  {
   "cell_type": "markdown",
   "metadata": {},
   "source": [
    "The computations are divided into graphs and subgraphs and each sub-graph cna be evaluated independently on different kind of machines."
   ]
  },
  {
   "cell_type": "code",
   "execution_count": 38,
   "metadata": {
    "collapsed": false
   },
   "outputs": [
    {
     "name": "stdout",
     "output_type": "stream",
     "text": [
      "[[ 49.  45.]\n",
      " [ 42.  43.]]\n"
     ]
    }
   ],
   "source": [
    "# General Matrix mulitplication\n",
    "a = tf.constant([2.0, 5.0, 3.0, 4.0], shape = [2,2], name = 'a')\n",
    "b = tf.constant([2.0, 5.0,9.0, 7.0], shape = [2,2], name = 'b')\n",
    "c = tf.matmul(a,b)\n",
    "\n",
    "with tf.Session() as sess: \n",
    "    print(sess.run(c))"
   ]
  },
  {
   "cell_type": "code",
   "execution_count": 40,
   "metadata": {
    "collapsed": false
   },
   "outputs": [
    {
     "name": "stdout",
     "output_type": "stream",
     "text": [
      "[[ 49.  45.]\n",
      " [ 42.  43.]]\n"
     ]
    }
   ],
   "source": [
    "# Distributed Computation on specific device\n",
    "with tf.device('/cpu:0'):\n",
    "    a = tf.constant([2.0, 5.0, 3.0, 4.0], shape = [2,2], name = 'a')\n",
    "    b = tf.constant([2.0, 5.0,9.0, 7.0], shape = [2,2], name = 'b')\n",
    "    c = tf.matmul(a,b)\n",
    "    \n",
    "# Create a session with log_device_placement set to true\n",
    "sess = tf.Session(config = tf.ConfigProto(log_device_placement = True))\n",
    "\n",
    "# Run the op\n",
    "print(sess.run(c))"
   ]
  },
  {
   "cell_type": "markdown",
   "metadata": {},
   "source": [
    "What about ore graph?\n",
    "Tensorflow provides default graph. You can build more graphs, but recommendation is to use one graph."
   ]
  },
  {
   "cell_type": "markdown",
   "metadata": {},
   "source": [
    "### Why Graphs?\n",
    "Lecture covers a discussion on creating a new graph and adding node to it for computation. General reco from course instructor is to use only 1 graph. \n",
    "\n",
    "Why use graphs though ?\n",
    "- We can partition graphs and run the subgraphs that are relevant for particular computation.\n",
    "- Partiton the computation logic into smaller pieces which can be then distributed to different gpu/cps\n",
    "- Directed Acyclyic graph models are used in Neural networks and this architecture aligns with that."
   ]
  },
  {
   "cell_type": "code",
   "execution_count": 44,
   "metadata": {
    "collapsed": false
   },
   "outputs": [
    {
     "name": "stdout",
     "output_type": "stream",
     "text": [
      "5\n"
     ]
    }
   ],
   "source": [
    "#Visualizing the graph with tensor board\n",
    "\n",
    "a = tf.constant(2, name = \"AAA\")\n",
    "b = tf.constant(3, name = \"BBB\")\n",
    "x = tf.add(a,b, name = \"ADDITION\")\n",
    "\n",
    "with tf.Session() as sess:\n",
    "    #\n",
    "    writer = tf.summary.FileWriter('./graphs', sess.graph)\n",
    "    print(sess.run(x))\n",
    "writer.close() \n",
    "#Note that the graph contains previously defined variables as well."
   ]
  },
  {
   "cell_type": "markdown",
   "metadata": {},
   "source": [
    "To launch tensorboard do the following:\n",
    "1. Launch a new python terminal\n",
    "2. Type : source activate tensorflow . This activates a tensornflow python environemnt\n",
    "3. type tensorboard --logdir=/home/anm/projects/python/tf/graphs"
   ]
  },
  {
   "cell_type": "markdown",
   "metadata": {},
   "source": [
    "### Tensor Constants"
   ]
  },
  {
   "cell_type": "code",
   "execution_count": 11,
   "metadata": {
    "collapsed": false
   },
   "outputs": [
    {
     "name": "stdout",
     "output_type": "stream",
     "text": [
      "[[5 5]\n",
      " [5 5]]\n"
     ]
    }
   ],
   "source": [
    "#signature of constant\n",
    "\n",
    "#tf.constant(value, dtype = None, shape = None, name = 'Const', verify_shape = False)\n",
    "# \n",
    "# Verify shape: Provide value and shape; if the value does not match the shape provided:- it will throw false\n",
    "\n",
    "# = tf.constant(2, shape = [2,2],verify_shape = True)  # Throws an error\n",
    "b = tf.constant(5,shape = [2,2]) #verify_shape by default = False; hence no error\n",
    "\n",
    "with tf.Session() as sess:\n",
    "    print(sess.run(b))\n",
    "\n",
    "#With verify_shape = False, it just duplicated to match the shape of 3x3"
   ]
  },
  {
   "cell_type": "code",
   "execution_count": 15,
   "metadata": {
    "collapsed": false
   },
   "outputs": [
    {
     "name": "stdout",
     "output_type": "stream",
     "text": [
      "[[2 3]\n",
      " [4 5]] \n",
      "\n",
      " [[0 2]\n",
      " [4 6]]\n"
     ]
    }
   ],
   "source": [
    "# More Constants\n",
    "\n",
    "a = tf.constant([2,2], name = \"a\")\n",
    "b = tf.constant([[0,1],[2,3]], name = \"b\")\n",
    "x = tf.add(a,b, name = \"add\")\n",
    "y = tf.multiply(a,b, name  = \"mul\") # Elementwise multipcation\n",
    "with tf.Session() as sess:\n",
    "    x, y = sess.run([x,y])\n",
    "    print(x,\"\\n\\n\", y)"
   ]
  },
  {
   "cell_type": "code",
   "execution_count": 16,
   "metadata": {
    "collapsed": false
   },
   "outputs": [
    {
     "name": "stdout",
     "output_type": "stream",
     "text": [
      "[[0 0 0]\n",
      " [0 0 0]]\n"
     ]
    }
   ],
   "source": [
    "#tf.zeros(shape, dtype = tf.float32, name = None)\n",
    "k = tf.zeros([2,3], tf.int32)\n",
    "with tf.Session() as sess:\n",
    "    print(sess.run(k))"
   ]
  },
  {
   "cell_type": "code",
   "execution_count": 17,
   "metadata": {
    "collapsed": false
   },
   "outputs": [
    {
     "name": "stdout",
     "output_type": "stream",
     "text": [
      "[[1 1 1]\n",
      " [1 1 1]]\n"
     ]
    }
   ],
   "source": [
    "#tf.ones(shape, dtype = tf.float32, name = None, optmize = True)\n",
    "k = tf.ones([2,3], tf.int32)\n",
    "with tf.Session() as sess:\n",
    "    print(sess.run(k))"
   ]
  },
  {
   "cell_type": "code",
   "execution_count": 19,
   "metadata": {
    "collapsed": false
   },
   "outputs": [
    {
     "name": "stdout",
     "output_type": "stream",
     "text": [
      "[[1 1 1 1 1]\n",
      " [1 1 1 1 1]\n",
      " [1 1 1 1 1]\n",
      " [1 1 1 1 1]\n",
      " [1 1 1 1 1]]\n"
     ]
    }
   ],
   "source": [
    "input_tensor = tf.zeros([5,5], tf.int32)\n",
    "output_tensor = tf.ones_like(input_tensor) # Tensor has a shape of another tensor.\n",
    "with tf.Session() as sess:\n",
    "    print(sess.run(output_tensor))"
   ]
  },
  {
   "cell_type": "code",
   "execution_count": 22,
   "metadata": {
    "collapsed": false
   },
   "outputs": [
    {
     "name": "stdout",
     "output_type": "stream",
     "text": [
      "[[8 8 8]\n",
      " [8 8 8]]\n"
     ]
    }
   ],
   "source": [
    "# Tensor filled with specific vaue\n",
    "\n",
    "#tf.fill(dims, value, name = None)\n",
    "u = tf.fill([2,3],8)\n",
    "with tf.Session() as sess:\n",
    "    print(sess.run(u))"
   ]
  },
  {
   "cell_type": "code",
   "execution_count": 26,
   "metadata": {
    "collapsed": false
   },
   "outputs": [
    {
     "name": "stdout",
     "output_type": "stream",
     "text": [
      "[ 10.          13.33333302  16.66666603  20.        ]\n"
     ]
    }
   ],
   "source": [
    "#Sequences and ranges support in tensorflow\n",
    "#tf.linspace(start, stop , num, name = None)\n",
    "\n",
    "#u = tf.linspace(10,20.0,2) # Having integer values throws error\n",
    "v = tf.linspace(10.0,20.0,4)\n",
    "with tf.Session() as sess:\n",
    "    #print(sess.run(u))\n",
    "    print(sess.run(v))"
   ]
  },
  {
   "cell_type": "code",
   "execution_count": 29,
   "metadata": {
    "collapsed": false
   },
   "outputs": [
    {
     "name": "stdout",
     "output_type": "stream",
     "text": [
      "[0 3 6 9]\n",
      "[ 0  1  2  3  4  5  6  7  8  9 10 11]\n"
     ]
    }
   ],
   "source": [
    "u = tf.range(0,12,3)\n",
    "v = tf.range(0,12)\n",
    "with tf.Session() as sess:\n",
    "    print(sess.run(u))\n",
    "    print(sess.run(v))"
   ]
  },
  {
   "cell_type": "markdown",
   "metadata": {},
   "source": [
    "Tensor objects are not iterable. Hence the following code will be in error\n",
    "for i in tf.range(4): will throw an error"
   ]
  },
  {
   "cell_type": "markdown",
   "metadata": {},
   "source": [
    "### Randomly Generated Constants"
   ]
  },
  {
   "cell_type": "code",
   "execution_count": 32,
   "metadata": {
    "collapsed": false
   },
   "outputs": [
    {
     "name": "stdout",
     "output_type": "stream",
     "text": [
      "[[ 0.64062023  0.23424713 -1.15992284  1.6687305   2.19163203 -0.09299777\n",
      "  -1.16985631  2.08277416  0.11149438 -0.17422791]]\n"
     ]
    }
   ],
   "source": [
    "#Normal distribution\n",
    "a = tf.random_normal([1,10], mean = 0, stddev = 1)\n",
    "with tf.Session() as sess:\n",
    "    print(sess.run(a))"
   ]
  },
  {
   "cell_type": "code",
   "execution_count": 34,
   "metadata": {
    "collapsed": false
   },
   "outputs": [
    {
     "name": "stdout",
     "output_type": "stream",
     "text": [
      "[[ 1.29168046 -1.52571726 -0.8403278   1.84704411  0.33465579 -0.34765878\n",
      "  -0.4465      0.95861709 -1.19733107  0.16889538]]\n"
     ]
    }
   ],
   "source": [
    "# If the numbers generated are 2SD away from mean, that point will be resampled; hence technically all points sampled are\n",
    "# within 2SD of mean.\n",
    "a = tf.truncated_normal([1,10], mean = 0, stddev = 1)\n",
    "with tf.Session() as sess:\n",
    "    print(sess.run(a))"
   ]
  },
  {
   "cell_type": "code",
   "execution_count": 37,
   "metadata": {
    "collapsed": false
   },
   "outputs": [
    {
     "name": "stdout",
     "output_type": "stream",
     "text": [
      "[[ 0.4627496   0.4699893   0.24381638  0.40396512  0.42248762  0.64823556\n",
      "   0.31833065  0.37038064  0.46237147  0.08211207]]\n"
     ]
    }
   ],
   "source": [
    "# Generate data from Uniform distribution.\n",
    "a = tf.random_uniform([1,10], minval = 0, maxval = 1, dtype = tf.float32, seed = None, name = None)\n",
    "with tf.Session() as sess:\n",
    "    print(sess.run(a))"
   ]
  },
  {
   "cell_type": "code",
   "execution_count": 39,
   "metadata": {
    "collapsed": false
   },
   "outputs": [
    {
     "name": "stdout",
     "output_type": "stream",
     "text": [
      "[[5 6]\n",
      " [1 2]\n",
      " [3 4]]\n"
     ]
    }
   ],
   "source": [
    "# Order of the rows of the elements are changed.\n",
    "a = tf.random_shuffle([[1,2],[3,4],[5,6]], seed = None, name = None)\n",
    "with tf.Session() as sess:\n",
    "    print(sess.run(a))"
   ]
  },
  {
   "cell_type": "code",
   "execution_count": 53,
   "metadata": {
    "collapsed": false
   },
   "outputs": [
    {
     "name": "stdout",
     "output_type": "stream",
     "text": [
      "[[[11 22]\n",
      "  [33 44]\n",
      "  [55 66]]\n",
      "\n",
      " [[ 1  2]\n",
      "  [ 3  4]\n",
      "  [ 5  6]]]\n"
     ]
    }
   ],
   "source": [
    "# In this case, the row order is preserved but the 'depth' order can be changed. Called shuffling on 1st dimension\n",
    "a = tf.random_shuffle([[[1,2],[3,4],[5,6]],[[11,22],[33,44],[55,66]]], seed = None, name = None)\n",
    "with tf.Session() as sess:\n",
    "    print(sess.run(a))"
   ]
  },
  {
   "cell_type": "code",
   "execution_count": 65,
   "metadata": {
    "collapsed": false
   },
   "outputs": [
    {
     "name": "stdout",
     "output_type": "stream",
     "text": [
      "[[ 22  33]\n",
      " [222 333]]\n"
     ]
    }
   ],
   "source": [
    "#tf.random_crop\n",
    "#size = height and width of the cropping; here we say 2 height and 3 width\n",
    "a = tf.random_crop([[1,2,3,4,5,6,7],[11,22,33,44,55,66,77],[111,222,333,444,555,666,777]], size = [2,2])\n",
    "with tf.Session() as sess:\n",
    "    print(sess.run(a))"
   ]
  },
  {
   "cell_type": "code",
   "execution_count": 73,
   "metadata": {
    "collapsed": false
   },
   "outputs": [
    {
     "name": "stdout",
     "output_type": "stream",
     "text": [
      "[[ 1.47426713 -1.41061131 -1.51584831  0.54189419]\n",
      " [-0.67729004 -0.31259853 -1.64196458 -0.12368025]\n",
      " [ 1.71104929 -0.80819546  0.16372978 -0.88884077]]\n",
      "[[2 0 1 3 3]\n",
      " [0 3 1 3 1]\n",
      " [2 2 0 0 0]]\n",
      "\n",
      "One more try\n",
      "\n",
      "[[ 1.47426713 -1.41061131 -1.51584831  0.54189419]\n",
      " [-0.67729004 -0.31259853 -1.64196458 -0.12368025]\n",
      " [ 1.71104929 -0.80819546  0.16372978 -0.88884077]]\n",
      "[[1 0 3 3 3 0 0 3 0 0]\n",
      " [1 1 1 1 0 3 1 1 3 0]\n",
      " [2 0 3 1 0 0 0 1 0 0]]\n"
     ]
    }
   ],
   "source": [
    "# tf.multinomial\n",
    "import numpy as np\n",
    "b = tf.constant(np.random.normal(size = (3,4)))\n",
    "# we take b as the log of probability value\n",
    "\n",
    "a = tf.multinomial(b,5) # we take sample value\n",
    "with tf.Session() as sess:\n",
    "    print(sess.run(b))\n",
    "    print(sess.run(a))\n",
    "        # The output is 3x4\n",
    "        # Each row of bcontains log probability of the 4 classes.\n",
    "        # Each element in row of 'a' is then selecting and element from 0-3 classes based on log probability\n",
    "print(\"\\nOne more try\\n\")\n",
    "a = tf.multinomial(b,10) # we take sample value\n",
    "with tf.Session() as sess:\n",
    "    print(sess.run(b))\n",
    "    print(sess.run(a))"
   ]
  },
  {
   "cell_type": "code",
   "execution_count": null,
   "metadata": {
    "collapsed": true
   },
   "outputs": [],
   "source": [
    "# tf.random_gamma : Look up gamma distribution."
   ]
  },
  {
   "cell_type": "code",
   "execution_count": 75,
   "metadata": {
    "collapsed": false
   },
   "outputs": [],
   "source": [
    "# setting random seed for the entire graph\n",
    "tf.set_random_seed(5)"
   ]
  },
  {
   "cell_type": "markdown",
   "metadata": {},
   "source": [
    "More Operations\n",
    "1. Element wise: Add, Sub, Multiply, Div, Exp, Log, Greater, Less, equal ..\n",
    "2. Array Operation: Concat, Slice, split, Constant, Rank, Shape, Shuffle\n",
    "3. Matrix: MatMul, MatrixInverse, MatrixDeterminant\n",
    "\n",
    "3. Stateful Operations: Variable, Assign, AssignAdd \n",
    "4. Neural N/w: SoftMax, Sigmoid, ReLU, Convolution2D, MaxPool\n",
    "5. Checkpointing operations: Save, Restore\n",
    "6. Queue and Sync operations: Enqueue, Dequeue, MutexAcquire, MutexRelease\n",
    "7. Control flow operations: Merge, Switch, Enter, Leave, NextIteration\n",
    "\n"
   ]
  },
  {
   "cell_type": "code",
   "execution_count": 77,
   "metadata": {
    "collapsed": false
   },
   "outputs": [
    {
     "name": "stdout",
     "output_type": "stream",
     "text": [
      "[5 8]\n",
      "[ 7 10]\n",
      "[ 6 12]\n",
      "[[18]]\n",
      "[1 3]\n",
      "[1 0]\n"
     ]
    }
   ],
   "source": [
    "#Operations\n",
    "a = tf.constant([3,6])\n",
    "b = tf.constant([2,2])\n",
    "u = tf.add(a,b)\n",
    "v = tf.add_n([a,b,b])\n",
    "w= tf.multiply(a,b)\n",
    "#tf.matmul(a,b) Error\n",
    "x = tf.matmul(tf.reshape(a,[1,2]), tf.reshape(b,[2,1]))\n",
    "y = tf.div(a,b)\n",
    "z = tf.mod(a,b)\n",
    "\n",
    "with tf.Session() as sess:\n",
    "    print(sess.run(u))\n",
    "    print(sess.run(v))\n",
    "    print(sess.run(w))\n",
    "    print(sess.run(x))\n",
    "    print(sess.run(y))\n",
    "    print(sess.run(z))"
   ]
  },
  {
   "cell_type": "markdown",
   "metadata": {},
   "source": [
    "### Tensorflow DataTypes"
   ]
  },
  {
   "cell_type": "markdown",
   "metadata": {},
   "source": [
    "TensorFlow takes Python native types: boolean, numeric(int, float), string"
   ]
  },
  {
   "cell_type": "code",
   "execution_count": 80,
   "metadata": {
    "collapsed": false
   },
   "outputs": [
    {
     "name": "stdout",
     "output_type": "stream",
     "text": [
      "0\n",
      "1\n"
     ]
    }
   ],
   "source": [
    "t_0 = 19\n",
    "u = tf.zeros_like(t_0)\n",
    "v = tf.ones_like(t_0)\n",
    "\n",
    "with tf.Session() as sess:\n",
    "    print(sess.run(u))\n",
    "    print(sess.run(v))"
   ]
  },
  {
   "cell_type": "code",
   "execution_count": 82,
   "metadata": {
    "collapsed": false
   },
   "outputs": [
    {
     "name": "stdout",
     "output_type": "stream",
     "text": [
      "[b'' b'' b'']\n"
     ]
    }
   ],
   "source": [
    "t_1 = ['apple','peach','banana']\n",
    "u = tf.zeros_like(t_1)\n",
    "#v = tf.ones_like(t_1) #throws an error because not clear what concent on ones is for a string\n",
    "\n",
    "with tf.Session() as sess:\n",
    "    print(sess.run(u))\n",
    "\n"
   ]
  },
  {
   "cell_type": "code",
   "execution_count": 84,
   "metadata": {
    "collapsed": false
   },
   "outputs": [
    {
     "name": "stdout",
     "output_type": "stream",
     "text": [
      "[[False False False]\n",
      " [False False False]\n",
      " [False False False]]\n",
      "[[ True  True  True]\n",
      " [ True  True  True]\n",
      " [ True  True  True]]\n"
     ]
    }
   ],
   "source": [
    "t_2 = [[True,False,False],[False,False,True],[False,True,False]]\n",
    "u = tf.zeros_like(t_2)\n",
    "v = tf.ones_like(t_2)\n",
    "\n",
    "with tf.Session() as sess:\n",
    "    print(sess.run(u))\n",
    "    print(sess.run(v))"
   ]
  },
  {
   "cell_type": "markdown",
   "metadata": {},
   "source": [
    "### Variables"
   ]
  },
  {
   "cell_type": "code",
   "execution_count": 85,
   "metadata": {
    "collapsed": true
   },
   "outputs": [],
   "source": [
    "a = tf.Variable(2) #scalar\n",
    "b = tf.Variable([2,3]) #vector \n",
    "c = tf.Variable([[1,2],[3,4]]) #matrix\n",
    "W = tf.Variable(tf.zeros([784,10])) #784x10 matrix"
   ]
  },
  {
   "cell_type": "code",
   "execution_count": 86,
   "metadata": {
    "collapsed": true
   },
   "outputs": [],
   "source": [
    "# Variables support various methods\n",
    "x = tf.Variable(2)\n",
    "\n",
    "# x.initializer #initializer op\n",
    "# x.value() # read operation\n",
    "# x.assign(..) #Write operation\n",
    "# x.assign_add(..) #?"
   ]
  },
  {
   "cell_type": "code",
   "execution_count": 87,
   "metadata": {
    "collapsed": false
   },
   "outputs": [],
   "source": [
    "# You have always to initialize your variables\n",
    "\n",
    "#e.g\n",
    "# init = tf.global_variables_initializer()\n",
    "# with tf.Session() as sess:\n",
    "#    sess.run(init)\n",
    "\n",
    "# Initializing speicifc variables:\n",
    "# init_ab = tf.variables_initializer([a,b])\n",
    "# with tf.Session() as sess:\n",
    "#    sess.run(init_ab)\n",
    "\n",
    "# Initialize a single variable\n",
    "# W = tf.Variable(tf.zeros([10,10]))\n",
    "# with tf.Session() as sess:\n",
    "#    sess.run(W.initializer)"
   ]
  },
  {
   "cell_type": "code",
   "execution_count": 91,
   "metadata": {
    "collapsed": false
   },
   "outputs": [
    {
     "name": "stdout",
     "output_type": "stream",
     "text": [
      "[[-0.11400997 -0.18153206  0.73489761 -1.72972417  0.31975889]\n",
      " [-1.64710903 -0.78185093  1.82349503  0.43927184 -1.33728075]\n",
      " [-0.69384336  0.05222709 -0.16475578 -1.30621588 -0.53799629]\n",
      " [ 0.385288    1.6380235  -1.44918716  0.15697786  1.53815043]\n",
      " [ 1.242769    0.54607153  1.21899426  0.0025931   0.60515374]]\n"
     ]
    }
   ],
   "source": [
    "#Eval() a variable\n",
    "\n",
    "W = tf.Variable(tf.truncated_normal([5,5]))\n",
    "with tf.Session() as sess:\n",
    "    sess.run(W.initializer)\n",
    "    print(W.eval())"
   ]
  },
  {
   "cell_type": "code",
   "execution_count": 94,
   "metadata": {
    "collapsed": false
   },
   "outputs": [
    {
     "name": "stdout",
     "output_type": "stream",
     "text": [
      "10\n"
     ]
    }
   ],
   "source": [
    "#tf.Variable.assing()\n",
    "\n",
    "W = tf.Variable(10)\n",
    "W.assign(100)\n",
    "with tf.Session() as sess:\n",
    "    sess.run(W.initializer)\n",
    "    print(W.eval()) # Did not call W.assign(100) hence the value was never changed."
   ]
  },
  {
   "cell_type": "code",
   "execution_count": 96,
   "metadata": {
    "collapsed": false
   },
   "outputs": [
    {
     "name": "stdout",
     "output_type": "stream",
     "text": [
      "100\n"
     ]
    }
   ],
   "source": [
    "#tf.Variable.assing()\n",
    "\n",
    "W = tf.Variable(10)\n",
    "assign_op= W.assign(100)\n",
    "with tf.Session() as sess:\n",
    "    sess.run(W.initializer)\n",
    "    sess.run(assign_op)\n",
    "    print(W.eval()) # Did not call W.assign(100) hence the value was never changed."
   ]
  },
  {
   "cell_type": "code",
   "execution_count": 104,
   "metadata": {
    "collapsed": false
   },
   "outputs": [
    {
     "name": "stdout",
     "output_type": "stream",
     "text": [
      "2\n",
      "2\n",
      "4\n",
      "8\n"
     ]
    }
   ],
   "source": [
    "# MOre example\n",
    "\n",
    "my_var = tf.Variable(2)\n",
    "my_var2 = my_var.assign(2*my_var) # Note that my_var2 is 'assigned' from value at my_Vvar\n",
    "\n",
    "with tf.Session() as sess:\n",
    "    sess.run(my_var.initializer)\n",
    "    print(sess.run(my_var))\n",
    "    print(sess.run(my_var))\n",
    "    print(sess.run(my_var2))\n",
    "    print(sess.run(my_var2))\n",
    "    "
   ]
  },
  {
   "cell_type": "code",
   "execution_count": 107,
   "metadata": {
    "collapsed": false
   },
   "outputs": [
    {
     "name": "stdout",
     "output_type": "stream",
     "text": [
      "20\n",
      "18\n"
     ]
    }
   ],
   "source": [
    "# Assign_add and #Assign_sub; \n",
    "my_var = tf.Variable(10)\n",
    "\n",
    "with tf.Session() as sess:\n",
    "    sess.run(my_var.initializer)\n",
    "    \n",
    "    #increment by 10\n",
    "    print(sess.run(my_var.assign_add(10)))\n",
    "    \n",
    "    \n",
    "    #subtract 2\n",
    "    print(sess.run(my_var.assign_sub(2)))"
   ]
  },
  {
   "cell_type": "code",
   "execution_count": 110,
   "metadata": {
    "collapsed": false
   },
   "outputs": [
    {
     "name": "stdout",
     "output_type": "stream",
     "text": [
      "20\n",
      "0\n"
     ]
    }
   ],
   "source": [
    "# Each session maintains its own copy of the variable\n",
    "\n",
    "W = tf.Variable(10)\n",
    "\n",
    "sess1 = tf.Session()\n",
    "sess2 = tf.Session()\n",
    "\n",
    "sess1.run(W.initializer)\n",
    "sess2.run(W.initializer)\n",
    "\n",
    "print(sess1.run(W.assign_add(10))) # W has different value in Session 1 thans in Session 2\n",
    "print(sess2.run(W.assign_sub(10)))\n",
    "\n",
    "sess1.close()\n",
    "sess2.close()"
   ]
  },
  {
   "cell_type": "code",
   "execution_count": null,
   "metadata": {
    "collapsed": true
   },
   "outputs": [],
   "source": [
    "# Using a variable to initialze another variable.\n",
    "\n",
    "W = tf.Variable(tf.truncated_normal([10,10]))\n",
    "#U = tf.Variable(2 * W) ENsure W is initialized before\n",
    "U = tf.Variable(2*W.initialized_value())"
   ]
  },
  {
   "cell_type": "code",
   "execution_count": 111,
   "metadata": {
    "collapsed": true
   },
   "outputs": [],
   "source": [
    "# Control Dependencies\n",
    "# Defines which ops should be run first\n",
    "\n",
    "# with g.control_dependencies([a,b,c]):\n",
    "    # d and e will only run after a, b, and c have exectued\n",
    "#    d = \n",
    "#    e = "
   ]
  },
  {
   "cell_type": "code",
   "execution_count": 112,
   "metadata": {
    "collapsed": false
   },
   "outputs": [
    {
     "name": "stdout",
     "output_type": "stream",
     "text": [
      "[ 6.  7.  8.]\n"
     ]
    }
   ],
   "source": [
    "#Placeholders\n",
    "#A TF program has 2 phase. 1 phas for gathering the graph nodes and 2nd for using a session to execute operations\n",
    "\n",
    "a = tf.placeholder(tf.float32, shape = [3])\n",
    "\n",
    "b = tf.constant([5,5,5], tf.float32)\n",
    "c = a + b\n",
    "\n",
    "#Need to feed the value to a before running\n",
    "with tf.Session() as sess:\n",
    "    print(sess.run(c,{a: [1,2,3]})) # tensor name is the key in dict and dictionary values are values that we want to feed\n"
   ]
  },
  {
   "cell_type": "code",
   "execution_count": 114,
   "metadata": {
    "collapsed": false
   },
   "outputs": [
    {
     "name": "stdout",
     "output_type": "stream",
     "text": [
      "[ 6.  7.  5.]\n",
      "[ 6.  7.  6.]\n",
      "[ 6.  7.  7.]\n",
      "[ 6.  7.  8.]\n",
      "[ 6.  7.  9.]\n"
     ]
    }
   ],
   "source": [
    "# Multiple data points for placeholder:\n",
    "#Placeholders\n",
    "#A TF program has 2 phase. 1 phas for gathering the graph nodes and 2nd for using a session to execute operations\n",
    "\n",
    "a = tf.placeholder(tf.float32, shape = [3])\n",
    "\n",
    "b = tf.constant([5,5,5], tf.float32)\n",
    "c = a + b\n",
    "\n",
    "#Need to feed the value to a before running\n",
    "with tf.Session() as sess:\n",
    "    for k in range(5): # Call the image in loop.\n",
    "        print(sess.run(c,{a: [1,2,k]})) # tensor name is the key in dict and dictionary values are values that we want to feed\n"
   ]
  },
  {
   "cell_type": "code",
   "execution_count": 116,
   "metadata": {
    "collapsed": false
   },
   "outputs": [
    {
     "name": "stdout",
     "output_type": "stream",
     "text": [
      "45\n"
     ]
    }
   ],
   "source": [
    "# feed_dict\n",
    "\n",
    "a = tf.add(2,5)\n",
    "b = tf.multiply(a,3)\n",
    "\n",
    "with tf.Session() as sess:\n",
    "    replace_dict ={a:15} # new value for a\n",
    "    print(sess.run(b,feed_dict = replace_dict)) #sess.run can take a second argument as the dicitionary.\n",
    "    \n",
    "    "
   ]
  },
  {
   "cell_type": "code",
   "execution_count": 122,
   "metadata": {
    "collapsed": false
   },
   "outputs": [
    {
     "name": "stdout",
     "output_type": "stream",
     "text": [
      "30\n",
      "30\n",
      "30\n",
      "30\n",
      "30\n",
      "30\n",
      "30\n",
      "30\n",
      "30\n",
      "30\n"
     ]
    }
   ],
   "source": [
    "#Normal loading:\n",
    "x = tf.Variable(10)\n",
    "y = tf.Variable(20)\n",
    "z = tf.add(x,y)\n",
    "\n",
    "with tf.Session() as sess:\n",
    "    sess.run(tf.global_variables_initializer())\n",
    "    for _ in range(5):\n",
    "        print(sess.run(z))"
   ]
  },
  {
   "cell_type": "code",
   "execution_count": 125,
   "metadata": {
    "collapsed": false
   },
   "outputs": [
    {
     "name": "stdout",
     "output_type": "stream",
     "text": [
      "30\n",
      "30\n",
      "30\n",
      "30\n",
      "30\n"
     ]
    }
   ],
   "source": [
    "# Lazy Loading\n",
    "#Normal loading:\n",
    "x = tf.Variable(10)\n",
    "y = tf.Variable(20)\n",
    "\n",
    "with tf.Session() as sess:\n",
    "    sess.run(tf.global_variables_initializer())\n",
    "    for _ in range(5):\n",
    "        print(sess.run(tf.add(x,y)))"
   ]
  }
 ],
 "metadata": {
  "anaconda-cloud": {},
  "kernelspec": {
   "display_name": "Python 3",
   "language": "python",
   "name": "python3"
  },
  "language_info": {
   "codemirror_mode": {
    "name": "ipython",
    "version": 3
   },
   "file_extension": ".py",
   "mimetype": "text/x-python",
   "name": "python",
   "nbconvert_exporter": "python",
   "pygments_lexer": "ipython3",
   "version": "3.5.2"
  }
 },
 "nbformat": 4,
 "nbformat_minor": 1
}
